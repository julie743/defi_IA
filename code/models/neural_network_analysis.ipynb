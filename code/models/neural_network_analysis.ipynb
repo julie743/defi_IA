{
 "cells": [
  {
   "cell_type": "markdown",
   "id": "73f34a48",
   "metadata": {},
   "source": [
    "# Neural network model\n",
    "\n",
    "Ce notebook est dédié à l'analyse des résultats obtenus avec le modèle de réseau de neurones. \n",
    "\n",
    "Il fait appel au fichier python `neural_network.py` qui définit le modèle, l'entraîne et prédit le jeu de test.\n"
   ]
  },
  {
   "cell_type": "code",
   "execution_count": null,
   "id": "0c46f31d",
   "metadata": {},
   "outputs": [],
   "source": [
    "from neural_network import main_NN"
   ]
  },
  {
   "cell_type": "code",
   "execution_count": null,
   "id": "2078149c",
   "metadata": {},
   "outputs": [],
   "source": [
    "import warnings\n",
    "warnings.filterwarnings(\"ignore\")"
   ]
  },
  {
   "cell_type": "markdown",
   "id": "8390c27a",
   "metadata": {},
   "source": [
    "# Run le modèle"
   ]
  },
  {
   "cell_type": "code",
   "execution_count": null,
   "id": "870c8932",
   "metadata": {},
   "outputs": [],
   "source": [
    "main_NN()"
   ]
  },
  {
   "cell_type": "markdown",
   "id": "ce9f8346",
   "metadata": {},
   "source": [
    "# Analyse des résultats "
   ]
  }
 ],
 "metadata": {
  "kernelspec": {
   "display_name": "Python 3 (ipykernel)",
   "language": "python",
   "name": "python3"
  },
  "language_info": {
   "codemirror_mode": {
    "name": "ipython",
    "version": 3
   },
   "file_extension": ".py",
   "mimetype": "text/x-python",
   "name": "python",
   "nbconvert_exporter": "python",
   "pygments_lexer": "ipython3",
   "version": "3.8.5"
  },
  "toc": {
   "base_numbering": "0",
   "nav_menu": {},
   "number_sections": true,
   "sideBar": true,
   "skip_h1_title": false,
   "title_cell": "Table of Contents",
   "title_sidebar": "Contents",
   "toc_cell": false,
   "toc_position": {},
   "toc_section_display": true,
   "toc_window_display": true
  }
 },
 "nbformat": 4,
 "nbformat_minor": 5
}
