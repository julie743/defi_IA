{
 "cells": [
  {
   "cell_type": "markdown",
   "id": "af0f221a",
   "metadata": {},
   "source": [
    "# Méthode de boosting (regression)\n",
    "\n",
    "Ce notebook est dédié à l'analyse des résultats obtenus avec le boosting\n",
    "\n",
    "Il fait appel au fichier python `boosting.py` qui définit le modèle, l'entraîne et prédit le jeu de test.\n"
   ]
  },
  {
   "cell_type": "code",
   "execution_count": null,
   "id": "49466ee1",
   "metadata": {},
   "outputs": [],
   "source": [
    "from regression_tree import main_regression_tree"
   ]
  },
  {
   "cell_type": "code",
   "execution_count": 24,
   "id": "80b27800",
   "metadata": {},
   "outputs": [],
   "source": [
    "import numpy as np\n",
    "import warnings\n",
    "warnings.filterwarnings(\"ignore\")"
   ]
  },
  {
   "cell_type": "markdown",
   "id": "12f9f3d7",
   "metadata": {},
   "source": [
    "# Run le modèle\n",
    "\n",
    "a run cette nuit..."
   ]
  },
  {
   "cell_type": "code",
   "execution_count": null,
   "id": "a52c61b9",
   "metadata": {},
   "outputs": [],
   "source": [
    "main_boosting()"
   ]
  },
  {
   "cell_type": "markdown",
   "id": "32fcbf08",
   "metadata": {},
   "source": [
    "# Analyse des résultats "
   ]
  }
 ],
 "metadata": {
  "kernelspec": {
   "display_name": "Python 3 (ipykernel)",
   "language": "python",
   "name": "python3"
  },
  "language_info": {
   "codemirror_mode": {
    "name": "ipython",
    "version": 3
   },
   "file_extension": ".py",
   "mimetype": "text/x-python",
   "name": "python",
   "nbconvert_exporter": "python",
   "pygments_lexer": "ipython3",
   "version": "3.8.5"
  },
  "toc": {
   "base_numbering": "0",
   "nav_menu": {},
   "number_sections": true,
   "sideBar": true,
   "skip_h1_title": false,
   "title_cell": "Table of Contents",
   "title_sidebar": "Contents",
   "toc_cell": false,
   "toc_position": {
    "height": "calc(100% - 180px)",
    "left": "10px",
    "top": "150px",
    "width": "165px"
   },
   "toc_section_display": true,
   "toc_window_display": true
  }
 },
 "nbformat": 4,
 "nbformat_minor": 5
}
