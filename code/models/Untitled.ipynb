{
 "cells": [
  {
   "cell_type": "markdown",
   "id": "965f9b35",
   "metadata": {},
   "source": [
    "# Méthode de concaténation des modèles par moyenne pondérée\n",
    "\n",
    "Ce notebook est dédié à l'analyse des résultats obtenus avec la moyenne pondérée de deux modèles : neural network et catboost. \n",
    "\n",
    "Il fait appel au fichier python `average_models.py` qui définit le modèle, l'entraîne et prédit le jeu de test.\n"
   ]
  },
  {
   "cell_type": "code",
   "execution_count": null,
   "id": "7a013dce",
   "metadata": {},
   "outputs": [],
   "source": [
    "from average_models import main_average_models"
   ]
  }
 ],
 "metadata": {
  "kernelspec": {
   "display_name": "Python 3 (ipykernel)",
   "language": "python",
   "name": "python3"
  },
  "language_info": {
   "codemirror_mode": {
    "name": "ipython",
    "version": 3
   },
   "file_extension": ".py",
   "mimetype": "text/x-python",
   "name": "python",
   "nbconvert_exporter": "python",
   "pygments_lexer": "ipython3",
   "version": "3.8.5"
  },
  "toc": {
   "base_numbering": 1,
   "nav_menu": {},
   "number_sections": true,
   "sideBar": true,
   "skip_h1_title": false,
   "title_cell": "Table of Contents",
   "title_sidebar": "Contents",
   "toc_cell": false,
   "toc_position": {},
   "toc_section_display": true,
   "toc_window_display": false
  }
 },
 "nbformat": 4,
 "nbformat_minor": 5
}
