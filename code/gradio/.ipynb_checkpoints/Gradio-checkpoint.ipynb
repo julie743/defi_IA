{
 "cells": [
  {
   "cell_type": "code",
   "execution_count": 2,
   "id": "6cbec2e2",
   "metadata": {},
   "outputs": [
    {
     "ename": "AttributeError",
     "evalue": "partially initialized module 'gradio' has no attribute 'inputs' (most likely due to a circular import)",
     "output_type": "error",
     "traceback": [
      "\u001b[1;31m---------------------------------------------------------------------------\u001b[0m",
      "\u001b[1;31mAttributeError\u001b[0m                            Traceback (most recent call last)",
      "\u001b[1;32m<ipython-input-2-62b710e8c3e5>\u001b[0m in \u001b[0;36m<module>\u001b[1;34m\u001b[0m\n\u001b[1;32m----> 1\u001b[1;33m \u001b[1;32mimport\u001b[0m \u001b[0mgradio\u001b[0m \u001b[1;32mas\u001b[0m \u001b[0mgr\u001b[0m\u001b[1;33m\u001b[0m\u001b[1;33m\u001b[0m\u001b[0m\n\u001b[0m\u001b[0;32m      2\u001b[0m \u001b[1;32mimport\u001b[0m \u001b[0mpandas\u001b[0m \u001b[1;32mas\u001b[0m \u001b[0mpd\u001b[0m\u001b[1;33m\u001b[0m\u001b[1;33m\u001b[0m\u001b[0m\n\u001b[0;32m      3\u001b[0m \u001b[1;32mimport\u001b[0m \u001b[0mnumpy\u001b[0m \u001b[1;32mas\u001b[0m \u001b[0mnp\u001b[0m\u001b[1;33m\u001b[0m\u001b[1;33m\u001b[0m\u001b[0m\n\u001b[0;32m      4\u001b[0m \u001b[1;32mfrom\u001b[0m \u001b[0msklearn\u001b[0m \u001b[1;32mimport\u001b[0m \u001b[0mmodel_selection\u001b[0m\u001b[1;33m\u001b[0m\u001b[1;33m\u001b[0m\u001b[0m\n\u001b[0;32m      5\u001b[0m \u001b[1;32mfrom\u001b[0m \u001b[0msklearn\u001b[0m\u001b[1;33m.\u001b[0m\u001b[0mlinear_model\u001b[0m \u001b[1;32mimport\u001b[0m \u001b[0mLogisticRegression\u001b[0m\u001b[1;33m\u001b[0m\u001b[1;33m\u001b[0m\u001b[0m\n",
      "\u001b[1;32m~\\Documents\\5A\\defi_IA\\code\\gradio\\gradio.py\u001b[0m in \u001b[0;36m<module>\u001b[1;34m\u001b[0m\n\u001b[0;32m     28\u001b[0m \u001b[1;33m\u001b[0m\u001b[0m\n\u001b[0;32m     29\u001b[0m \u001b[1;33m\u001b[0m\u001b[0m\n\u001b[1;32m---> 30\u001b[1;33m \u001b[0mcity\u001b[0m \u001b[1;33m=\u001b[0m \u001b[0mgr\u001b[0m\u001b[1;33m.\u001b[0m\u001b[0minputs\u001b[0m\u001b[1;33m.\u001b[0m\u001b[0mRadio\u001b[0m\u001b[1;33m(\u001b[0m\u001b[0mchoices\u001b[0m\u001b[1;33m=\u001b[0m\u001b[0mcities\u001b[0m\u001b[1;33m,\u001b[0m \u001b[0mlabel\u001b[0m\u001b[1;33m=\u001b[0m\u001b[1;34m\"Select a city\"\u001b[0m\u001b[1;33m)\u001b[0m\u001b[1;33m\u001b[0m\u001b[1;33m\u001b[0m\u001b[0m\n\u001b[0m\u001b[0;32m     31\u001b[0m \u001b[0mlanguage\u001b[0m \u001b[1;33m=\u001b[0m  \u001b[0mgr\u001b[0m\u001b[1;33m.\u001b[0m\u001b[0minputs\u001b[0m\u001b[1;33m.\u001b[0m\u001b[0mRadio\u001b[0m\u001b[1;33m(\u001b[0m\u001b[0mchoices\u001b[0m\u001b[1;33m=\u001b[0m\u001b[0mlanguages\u001b[0m\u001b[1;33m,\u001b[0m \u001b[0mlabel\u001b[0m\u001b[1;33m=\u001b[0m\u001b[1;34m\"Select a language\"\u001b[0m\u001b[1;33m)\u001b[0m\u001b[1;33m\u001b[0m\u001b[1;33m\u001b[0m\u001b[0m\n\u001b[0;32m     32\u001b[0m \u001b[0mmobile\u001b[0m \u001b[1;33m=\u001b[0m  \u001b[0mgr\u001b[0m\u001b[1;33m.\u001b[0m\u001b[0minputs\u001b[0m\u001b[1;33m.\u001b[0m\u001b[0mSlider\u001b[0m\u001b[1;33m(\u001b[0m\u001b[0mminimum\u001b[0m\u001b[1;33m=\u001b[0m\u001b[1;36m0\u001b[0m\u001b[1;33m,\u001b[0m \u001b[0mmaximum\u001b[0m\u001b[1;33m=\u001b[0m\u001b[1;36m1\u001b[0m\u001b[1;33m,\u001b[0m \u001b[0mstep\u001b[0m\u001b[1;33m=\u001b[0m\u001b[1;36m1\u001b[0m\u001b[1;33m,\u001b[0m \u001b[0mlabel\u001b[0m\u001b[1;33m=\u001b[0m\u001b[1;34m\"Select a device - 0 (computer) & 1 (mobile phone)\"\u001b[0m\u001b[1;33m)\u001b[0m\u001b[1;33m\u001b[0m\u001b[1;33m\u001b[0m\u001b[0m\n",
      "\u001b[1;31mAttributeError\u001b[0m: partially initialized module 'gradio' has no attribute 'inputs' (most likely due to a circular import)"
     ]
    }
   ],
   "source": [
    "import gradio as gr\n",
    "import pandas as pd\n",
    "import numpy as np \n",
    "from sklearn import model_selection\n",
    "from sklearn.linear_model import LogisticRegression\n",
    "import pickle\n",
    "import os\n",
    "\n",
    "#Path Eva : 'C:/Users/evaet/Documents/5A/defi_IA/' \n",
    "#Path Julie : '/home/julie/Documents/cours/5A/IAF/defi_IA'\n",
    "PATH_PROJECT = 'C:/Users/evaet/Documents/5A/defi_IA/' \n",
    "\n",
    "#Weigths \n",
    "PATH_WEIGTHS = os.path.join(PATH_PROJECT,'weigths')\n",
    "filename = 'finalized_model.sav'\n",
    "\n",
    "PATH_UTILITIES = os.path.join(PATH_PROJECT,'code/utilities')\n",
    "os.chdir(PATH_UTILITIES)\n",
    "\n",
    "import data_loading as DL\n",
    "import data_preparation_for_models as DP\n",
    "import predictions_analysis as PA\n",
    "from download_prediction import download_pred_Xtest"
   ]
  },
  {
   "cell_type": "code",
   "execution_count": null,
   "id": "d77b9d0a",
   "metadata": {},
   "outputs": [],
   "source": [
    "#--------------------- Information regarding the request ----------------------\n",
    "cities = [\"amsterdam\",\"copenhagen\",\"madrid\",\"paris\",\"rome\",\"sofia\",\"valletta\",\"vienna\",\"vilnius\"]\n",
    "languages = [\"austrian\", \"belgian\", \"bulgarian\", \"croatian\", \"cypriot\", \"czech\", \"danish\", \"dutch\", \"estonian\", \"finnish\", \"french\", \"german\", \"greek\", \"hungarian\", \"irish\", \"italian\", \"latvian\", \"lithuanian\", \"luxembourgish\", \"maltese\", \"polish\", \"portuguese\", \"romanian\", \"slovakian\", \"slovene\", \"spanish\", \"swedish\"]\n",
    "\n",
    "\n",
    "city = gr.inputs.Radio(choices=cities, label=\"Select a city\")\n",
    "language =  gr.inputs.Radio(choices=languages, label=\"Select a language\")\n",
    "mobile =  gr.inputs.Slider(minimum=0, maximum=1, step=1, label=\"Select a device - 0 (computer) & 1 (mobile phone)\")\n",
    "date =  gr.inputs.Slider(minimum=0, maximum=44, step=1, label=\"Select a date\")\n",
    "hotel_id =  gr.inputs.Slider(minimum=0, maximum=998, step=1, label=\"Select the hotel_id\")\n",
    "stock = gr.inputs.Slider(minimum=0, maximum=200, step=1, label=\"Select the stock\") #to change \n",
    "parking = gr.inputs.Slider(minimum=0, maximum=1, step=1, label=\"Parking available\") \n",
    "pool = gr.inputs.Slider(minimum=0, maximum=1, step=1, label=\"Swimming pool available\")\n",
    "children_policy = gr.inputs.Slider(minimum=0, maximum=2, step=1, label=\"Select the children policy of the hotel\")"
   ]
  },
  {
   "cell_type": "code",
   "execution_count": null,
   "id": "1a5658d8",
   "metadata": {},
   "outputs": [],
   "source": [
    "#-------------------------------- Prediction ----------------------------------\n",
    "def predict(city,language,mobile,date,hotel_id,stock,group,brand,parking,pool,children_policy):\n",
    "    #Download of the best model weights \n",
    "    os.chdir(PATH_WEIGTHS)\n",
    "    model = pickle.load(open(filename, 'rb'))\n",
    "    \n",
    "    #Formatting the data into a dataframe \n",
    "    avatar_id = 5555555555555\n",
    "    new = dict(avatar_id=avatar_id, city=city, date=date, language=language, mobile=mobile, hotel_id=hotel_id, stock=stock, group=group, brand=brand, parking=parking, pool=pool, children_policy=children_policy)\n",
    "    #new = dict(avatar_id=avatar_id, city=\"paris\", date=40, language=\"dutch\", mobile=0, hotel_id=853, stock=110, group=\"Chillton Worldwide\", brand=\"Tripletree\", parking=1, pool=0, children_policy=0)\n",
    "    new = pd.DataFrame(new, index=[0])\n",
    "    data,Y,var_quant,var_quali,var_quali_to_encode = DL.main_load_data()\n",
    "    frames = [data, new]\n",
    "    result = pd.concat(frames)\n",
    "    X_train,X_vali,X_train_renorm,Y_train,X_vali_renorm,Y_vali,X_test_renorm = DP.main_prepare_train_vali_data(result,Y,var_quant,var_quali,var_quali_to_encode)\n",
    "    index = X_train[X_train[\"avatar_id\"]==avatar_id].index\n",
    "\n",
    "    #Making a prediction \n",
    "    prediction = model.predict(X_train_renorm.iloc[index])\n",
    "    \n",
    "    return prediction "
   ]
  },
  {
   "cell_type": "code",
   "execution_count": null,
   "id": "935724a0",
   "metadata": {},
   "outputs": [],
   "source": [
    "#------------------------------- Lauch Gradio ---------------------------------\n",
    "if __name__=='__main__':\n",
    "    interface = gr.Interface(\n",
    "    fn=predict,\n",
    "    inputs=[city,language,mobile,date,hotel_id,stock,\"text\",\"text\",parking,pool,children_policy],\n",
    "    outputs=[\"text\"],   \n",
    "    title=\"Hotel price prediction - defi IA 2023\",\n",
    "    description=\"To predict the price of a hotel, please enter the necessary information\"\n",
    ").launch(debug=True, share=True)\n",
    "\n",
    "\n",
    "\"\"\"A finaliser : \n",
    "- Format écriture brand et group ==> majuscule pour la premiere lettre puis minuscule \n",
    "- Valeur max du stock \n",
    "- Interpretabilité \n",
    "\"\"\""
   ]
  }
 ],
 "metadata": {
  "kernelspec": {
   "display_name": "Python 3",
   "language": "python",
   "name": "python3"
  },
  "language_info": {
   "codemirror_mode": {
    "name": "ipython",
    "version": 3
   },
   "file_extension": ".py",
   "mimetype": "text/x-python",
   "name": "python",
   "nbconvert_exporter": "python",
   "pygments_lexer": "ipython3",
   "version": "3.8.8"
  },
  "toc": {
   "base_numbering": 1,
   "nav_menu": {},
   "number_sections": true,
   "sideBar": true,
   "skip_h1_title": false,
   "title_cell": "Table of Contents",
   "title_sidebar": "Contents",
   "toc_cell": false,
   "toc_position": {},
   "toc_section_display": true,
   "toc_window_display": false
  }
 },
 "nbformat": 4,
 "nbformat_minor": 5
}
