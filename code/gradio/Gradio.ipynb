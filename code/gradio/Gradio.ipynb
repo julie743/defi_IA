{
 "cells": [
  {
   "cell_type": "markdown",
   "id": "381bbf2d",
   "metadata": {},
   "source": [
    "### Faux gradio"
   ]
  },
  {
   "cell_type": "code",
   "execution_count": null,
   "id": "ed77358a",
   "metadata": {},
   "outputs": [],
   "source": [
    "import pandas as pd\n",
    "import matplotlib.pyplot as plt\n",
    "import os\n",
    "import time\n",
    "from sklearn.model_selection import GridSearchCV\n",
    "from sklearn.ensemble import GradientBoostingRegressor\n",
    "import numpy as np\n",
    "\n",
    "PATH_PROJECT = 'C:/Users/evaet/Documents/5A/defi_IA/' \n",
    "PATH_IMAGE = os.path.join(PATH_PROJECT,'images')\n",
    "PATH_UTILITIES = os.path.join(PATH_PROJECT,'code/utilities')\n",
    "\n",
    "os.chdir(PATH_UTILITIES)\n",
    "\n",
    "import data_loading as DL\n",
    "import data_preparation_for_models as DP\n",
    "import predictions_analysis as PA\n",
    "from download_prediction import download_pred_Xtest\n",
    "from data_loading import PATH_DATA"
   ]
  },
  {
   "cell_type": "code",
   "execution_count": 7,
   "id": "2c0264fe",
   "metadata": {},
   "outputs": [],
   "source": [
    "#Choix du modèle \n",
    "PATH_MODELS = os.path.join(PATH_PROJECT,'code/models')\n",
    "os.chdir(PATH_MODELS)\n",
    "import regression_model as RM "
   ]
  },
  {
   "cell_type": "code",
   "execution_count": 4,
   "id": "61ed44fa",
   "metadata": {},
   "outputs": [],
   "source": [
    "def predict_price(city, date, language, mobile, hotel_id, stock, group, brand, parking, pool, children_policy) :  \n",
    "    x = np.array([order_request, city, date, language, mobile, hotel_id, stock, group, brand, parking, pool, children_policy])\n",
    "    \n",
    "#1) demande les infos relatives a la requete  \n",
    "#2) renvoie la prediction de notre modele  "
   ]
  },
  {
   "cell_type": "code",
   "execution_count": 5,
   "id": "9403395f",
   "metadata": {},
   "outputs": [
    {
     "name": "stderr",
     "output_type": "stream",
     "text": [
      "C:\\Users\\evaet\\Documents\\5A\\defi_IA\\code\\utilities\\data_preparation_for_models.py:190: SettingWithCopyWarning: \n",
      "A value is trying to be set on a copy of a slice from a DataFrame.\n",
      "Try using .loc[row_indexer,col_indexer] = value instead\n",
      "\n",
      "See the caveats in the documentation: https://pandas.pydata.org/pandas-docs/stable/user_guide/indexing.html#returning-a-view-versus-a-copy\n",
      "  X_quant[\"stock_mod\"]=X_quant[\"stock\"].map(lambda x: sqrt(x))\n",
      "C:\\Users\\evaet\\anaconda3\\lib\\site-packages\\pandas\\core\\frame.py:4308: SettingWithCopyWarning: \n",
      "A value is trying to be set on a copy of a slice from a DataFrame\n",
      "\n",
      "See the caveats in the documentation: https://pandas.pydata.org/pandas-docs/stable/user_guide/indexing.html#returning-a-view-versus-a-copy\n",
      "  return super().drop(\n"
     ]
    },
    {
     "name": "stdout",
     "output_type": "stream",
     "text": [
      "coucou\n"
     ]
    }
   ],
   "source": [
    "#prep data\n",
    "data,Y,var_quant,var_quali,var_quali_to_encode = DL.main_load_data()\n",
    "Y_mod = DP.transform_Y(Y)\n",
    "X_train,X_vali,Y_train,Y_vali = DP.split_train_vali(data,Y_mod)\n",
    "X_train,var_quant_new = DP.define_order_requests(X_train,var_quant)\n",
    "X_vali,_ = DP.define_order_requests(X_vali,var_quant)\n",
    "X_train,var_quant_last,var_dum,encoder_list =  DP.prepare_input_data(X_train,var_quant_new,var_quali,var_quali_to_encode, encoder_list = {}, Y=Y_train)\n",
    "X_vali,_,_,_ =  DP.prepare_input_data(X_vali,var_quant_new,var_quali,var_quali_to_encode, encoder_list = encoder_list,Y = Y_vali)\n",
    "X_train_renorm, scalerX = DP.renorm_var_quant(X_train,var_quant_last,var_dum)\n",
    "print(\"coucou\")\n",
    "X_vali_renorm, _ = DP.renorm_var_quant(X_vali,var_quant_last,var_dum,scalerX)\n",
    "X_train_renorm.drop('avatar_id',axis=1,inplace=True)\n",
    "X_vali_renorm.drop('avatar_id',axis=1,inplace=True)"
   ]
  },
  {
   "cell_type": "code",
   "execution_count": 42,
   "id": "c8e874f2",
   "metadata": {},
   "outputs": [],
   "source": [
    "data_test = pd.read_csv(os.path.join(PATH_DATA,'all_data','test_set_complet.csv'))\n",
    "new_row = {'order_requests':1, 'city': \"vilnius\", 'date':21, 'language':\"romanian\", 'mobile':0, 'avatar_id':1, 'hotel_id':161, 'stock':46,\n",
    "          'group':\"Boss Western\", 'brand':\"J.Halliday Inn\", 'parking':1, 'pool':0, 'children_policy':0}\n",
    "data_test = data_test.append(new_row, ignore_index=True)\n",
    "var_quant.append('order_requests')\n",
    "\n",
    "model_name = 'linear regression'"
   ]
  },
  {
   "cell_type": "code",
   "execution_count": 43,
   "id": "97cdbc71",
   "metadata": {},
   "outputs": [
    {
     "name": "stderr",
     "output_type": "stream",
     "text": [
      "C:\\Users\\evaet\\Documents\\5A\\defi_IA\\code\\utilities\\data_preparation_for_models.py:190: SettingWithCopyWarning: \n",
      "A value is trying to be set on a copy of a slice from a DataFrame.\n",
      "Try using .loc[row_indexer,col_indexer] = value instead\n",
      "\n",
      "See the caveats in the documentation: https://pandas.pydata.org/pandas-docs/stable/user_guide/indexing.html#returning-a-view-versus-a-copy\n",
      "  X_quant[\"stock_mod\"]=X_quant[\"stock\"].map(lambda x: sqrt(x))\n",
      "C:\\Users\\evaet\\anaconda3\\lib\\site-packages\\pandas\\core\\frame.py:4308: SettingWithCopyWarning: \n",
      "A value is trying to be set on a copy of a slice from a DataFrame\n",
      "\n",
      "See the caveats in the documentation: https://pandas.pydata.org/pandas-docs/stable/user_guide/indexing.html#returning-a-view-versus-a-copy\n",
      "  return super().drop(\n"
     ]
    }
   ],
   "source": [
    "X_test,_,_,_ = DP.prepare_input_data(data_test,var_quant_new,var_quali,var_quali_to_encode, encoder_list = encoder_list, Y =0)\n",
    "X_test_renorm, _ = DP.renorm_var_quant(X_test,var_quant_last,var_dum)\n",
    "X_test_renorm.drop('avatar_id',axis=1,inplace=True)"
   ]
  },
  {
   "cell_type": "code",
   "execution_count": 44,
   "id": "d55c9d2b",
   "metadata": {},
   "outputs": [
    {
     "name": "stderr",
     "output_type": "stream",
     "text": [
      "C:\\Users\\evaet\\Documents\\5A\\defi_IA\\code\\models\\regression_model.py:44: UserWarning: With alpha=0, this algorithm does not converge well. You are advised to use the LinearRegression estimator\n",
      "  regLin.fit(X_train,Y_train)\n",
      "C:\\Users\\evaet\\anaconda3\\lib\\site-packages\\sklearn\\linear_model\\_coordinate_descent.py:530: UserWarning: Coordinate descent with no regularization may lead to unexpected results and is discouraged.\n",
      "  model = cd_fast.enet_coordinate_descent(\n"
     ]
    },
    {
     "name": "stdout",
     "output_type": "stream",
     "text": [
      "Temps execution en sec pour l'entrainement : 19.997254200000043\n"
     ]
    },
    {
     "name": "stderr",
     "output_type": "stream",
     "text": [
      "C:\\Users\\evaet\\anaconda3\\lib\\site-packages\\sklearn\\linear_model\\_coordinate_descent.py:530: ConvergenceWarning: Objective did not converge. You might want to increase the number of iterations. Duality gap: 5265.043578058498, tolerance: 11.356943998042183\n",
      "  model = cd_fast.enet_coordinate_descent(\n"
     ]
    }
   ],
   "source": [
    "#fit (a remplacer par un save poids)\n",
    "regLin = RM.Model_reg(X_train_renorm,Y_train)"
   ]
  },
  {
   "cell_type": "code",
   "execution_count": 46,
   "id": "ab104032",
   "metadata": {},
   "outputs": [
    {
     "data": {
      "text/plain": [
       "'linear regression'"
      ]
     },
     "execution_count": 46,
     "metadata": {},
     "output_type": "execute_result"
    }
   ],
   "source": [
    "model_name"
   ]
  },
  {
   "cell_type": "code",
   "execution_count": 47,
   "id": "6905a4ec",
   "metadata": {},
   "outputs": [
    {
     "name": "stdout",
     "output_type": "stream",
     "text": [
      "RMSE =  23.399166968091208\n",
      "R2 =  0.892554072790934\n",
      "MAE =  15.682394489279195\n"
     ]
    },
    {
     "data": {
      "image/png": "[encoded data removed]",
      "text/plain": [
       "<Figure size 360x360 with 1 Axes>"
      ]
     },
     "metadata": {
      "needs_background": "light"
     },
     "output_type": "display_data"
    },
    {
     "data": {
      "image/png": "[encoded data removed]",
      "text/plain": [
       "<Figure size 360x360 with 1 Axes>"
      ]
     },
     "metadata": {
      "needs_background": "light"
     },
     "output_type": "display_data"
    },
    {
     "data": {
      "image/png": "[encoded data removed]",
      "text/plain": [
       "<Figure size 720x360 with 1 Axes>"
      ]
     },
     "metadata": {
      "needs_background": "light"
     },
     "output_type": "display_data"
    },
    {
     "data": {
      "text/html": [
       "<div>\n",
       "<style scoped>\n",
       "    .dataframe tbody tr th:only-of-type {\n",
       "        vertical-align: middle;\n",
       "    }\n",
       "\n",
       "    .dataframe tbody tr th {\n",
       "        vertical-align: top;\n",
       "    }\n",
       "\n",
       "    .dataframe thead th {\n",
       "        text-align: right;\n",
       "    }\n",
       "</style>\n",
       "<table border=\"1\" class=\"dataframe\">\n",
       "  <thead>\n",
       "    <tr style=\"text-align: right;\">\n",
       "      <th></th>\n",
       "      <th>price</th>\n",
       "    </tr>\n",
       "  </thead>\n",
       "  <tbody>\n",
       "    <tr>\n",
       "      <th>0</th>\n",
       "      <td>93.214002</td>\n",
       "    </tr>\n",
       "    <tr>\n",
       "      <th>1</th>\n",
       "      <td>126.186463</td>\n",
       "    </tr>\n",
       "    <tr>\n",
       "      <th>2</th>\n",
       "      <td>67.911957</td>\n",
       "    </tr>\n",
       "    <tr>\n",
       "      <th>3</th>\n",
       "      <td>57.735106</td>\n",
       "    </tr>\n",
       "    <tr>\n",
       "      <th>4</th>\n",
       "      <td>174.166522</td>\n",
       "    </tr>\n",
       "    <tr>\n",
       "      <th>...</th>\n",
       "      <td>...</td>\n",
       "    </tr>\n",
       "    <tr>\n",
       "      <th>6640</th>\n",
       "      <td>187.494184</td>\n",
       "    </tr>\n",
       "    <tr>\n",
       "      <th>6641</th>\n",
       "      <td>123.498710</td>\n",
       "    </tr>\n",
       "    <tr>\n",
       "      <th>6642</th>\n",
       "      <td>160.470463</td>\n",
       "    </tr>\n",
       "    <tr>\n",
       "      <th>6643</th>\n",
       "      <td>123.498710</td>\n",
       "    </tr>\n",
       "    <tr>\n",
       "      <th>6644</th>\n",
       "      <td>93.214002</td>\n",
       "    </tr>\n",
       "  </tbody>\n",
       "</table>\n",
       "<p>6645 rows × 1 columns</p>\n",
       "</div>"
      ],
      "text/plain": [
       "           price\n",
       "0      93.214002\n",
       "1     126.186463\n",
       "2      67.911957\n",
       "3      57.735106\n",
       "4     174.166522\n",
       "...          ...\n",
       "6640  187.494184\n",
       "6641  123.498710\n",
       "6642  160.470463\n",
       "6643  123.498710\n",
       "6644   93.214002\n",
       "\n",
       "[6645 rows x 1 columns]"
      ]
     },
     "execution_count": 47,
     "metadata": {},
     "output_type": "execute_result"
    }
   ],
   "source": [
    "#prediction \n",
    "scores = RM.Predict_validation_set(X_vali_renorm,Y_vali,regLin,model_name)\n",
    "RM.Predict_test_set(X_test_renorm,regLin, model_name)"
   ]
  },
  {
   "cell_type": "code",
   "execution_count": 48,
   "id": "eb41490a",
   "metadata": {},
   "outputs": [
    {
     "data": {
      "text/html": [
       "<div>\n",
       "<style scoped>\n",
       "    .dataframe tbody tr th:only-of-type {\n",
       "        vertical-align: middle;\n",
       "    }\n",
       "\n",
       "    .dataframe tbody tr th {\n",
       "        vertical-align: top;\n",
       "    }\n",
       "\n",
       "    .dataframe thead th {\n",
       "        text-align: right;\n",
       "    }\n",
       "</style>\n",
       "<table border=\"1\" class=\"dataframe\">\n",
       "  <thead>\n",
       "    <tr style=\"text-align: right;\">\n",
       "      <th></th>\n",
       "      <th>order_requests</th>\n",
       "      <th>city</th>\n",
       "      <th>date</th>\n",
       "      <th>language</th>\n",
       "      <th>mobile</th>\n",
       "      <th>avatar_id</th>\n",
       "      <th>hotel_id</th>\n",
       "      <th>stock</th>\n",
       "      <th>group</th>\n",
       "      <th>brand</th>\n",
       "      <th>parking</th>\n",
       "      <th>pool</th>\n",
       "      <th>children_policy</th>\n",
       "      <th>city_target</th>\n",
       "      <th>hotel_id_target</th>\n",
       "      <th>language_target</th>\n",
       "      <th>group_target</th>\n",
       "      <th>brand_target</th>\n",
       "    </tr>\n",
       "  </thead>\n",
       "  <tbody>\n",
       "    <tr>\n",
       "      <th>0</th>\n",
       "      <td>1</td>\n",
       "      <td>vilnius</td>\n",
       "      <td>21</td>\n",
       "      <td>romanian</td>\n",
       "      <td>0</td>\n",
       "      <td>1</td>\n",
       "      <td>161</td>\n",
       "      <td>46</td>\n",
       "      <td>Boss Western</td>\n",
       "      <td>J.Halliday Inn</td>\n",
       "      <td>1</td>\n",
       "      <td>0</td>\n",
       "      <td>0</td>\n",
       "      <td>4.592237</td>\n",
       "      <td>4.917355</td>\n",
       "      <td>4.885303</td>\n",
       "      <td>4.846599</td>\n",
       "      <td>4.960246</td>\n",
       "    </tr>\n",
       "    <tr>\n",
       "      <th>1</th>\n",
       "      <td>1</td>\n",
       "      <td>vilnius</td>\n",
       "      <td>21</td>\n",
       "      <td>romanian</td>\n",
       "      <td>0</td>\n",
       "      <td>1</td>\n",
       "      <td>187</td>\n",
       "      <td>32</td>\n",
       "      <td>Accar Hotels</td>\n",
       "      <td>Marcure</td>\n",
       "      <td>1</td>\n",
       "      <td>1</td>\n",
       "      <td>0</td>\n",
       "      <td>4.592237</td>\n",
       "      <td>4.917355</td>\n",
       "      <td>4.885303</td>\n",
       "      <td>5.069187</td>\n",
       "      <td>5.217294</td>\n",
       "    </tr>\n",
       "    <tr>\n",
       "      <th>2</th>\n",
       "      <td>1</td>\n",
       "      <td>vilnius</td>\n",
       "      <td>21</td>\n",
       "      <td>romanian</td>\n",
       "      <td>0</td>\n",
       "      <td>1</td>\n",
       "      <td>279</td>\n",
       "      <td>12</td>\n",
       "      <td>Independant</td>\n",
       "      <td>Independant</td>\n",
       "      <td>1</td>\n",
       "      <td>0</td>\n",
       "      <td>0</td>\n",
       "      <td>4.592237</td>\n",
       "      <td>4.917355</td>\n",
       "      <td>4.885303</td>\n",
       "      <td>4.512066</td>\n",
       "      <td>4.512066</td>\n",
       "    </tr>\n",
       "    <tr>\n",
       "      <th>3</th>\n",
       "      <td>1</td>\n",
       "      <td>vilnius</td>\n",
       "      <td>21</td>\n",
       "      <td>romanian</td>\n",
       "      <td>0</td>\n",
       "      <td>1</td>\n",
       "      <td>395</td>\n",
       "      <td>10</td>\n",
       "      <td>Accar Hotels</td>\n",
       "      <td>Ibas</td>\n",
       "      <td>0</td>\n",
       "      <td>0</td>\n",
       "      <td>0</td>\n",
       "      <td>4.592237</td>\n",
       "      <td>4.917355</td>\n",
       "      <td>4.885303</td>\n",
       "      <td>5.069187</td>\n",
       "      <td>4.366360</td>\n",
       "    </tr>\n",
       "    <tr>\n",
       "      <th>4</th>\n",
       "      <td>1</td>\n",
       "      <td>vilnius</td>\n",
       "      <td>21</td>\n",
       "      <td>romanian</td>\n",
       "      <td>0</td>\n",
       "      <td>1</td>\n",
       "      <td>488</td>\n",
       "      <td>42</td>\n",
       "      <td>Accar Hotels</td>\n",
       "      <td>Safitel</td>\n",
       "      <td>1</td>\n",
       "      <td>1</td>\n",
       "      <td>1</td>\n",
       "      <td>4.592237</td>\n",
       "      <td>4.917355</td>\n",
       "      <td>4.885303</td>\n",
       "      <td>5.069187</td>\n",
       "      <td>5.603255</td>\n",
       "    </tr>\n",
       "    <tr>\n",
       "      <th>...</th>\n",
       "      <td>...</td>\n",
       "      <td>...</td>\n",
       "      <td>...</td>\n",
       "      <td>...</td>\n",
       "      <td>...</td>\n",
       "      <td>...</td>\n",
       "      <td>...</td>\n",
       "      <td>...</td>\n",
       "      <td>...</td>\n",
       "      <td>...</td>\n",
       "      <td>...</td>\n",
       "      <td>...</td>\n",
       "      <td>...</td>\n",
       "      <td>...</td>\n",
       "      <td>...</td>\n",
       "      <td>...</td>\n",
       "      <td>...</td>\n",
       "      <td>...</td>\n",
       "    </tr>\n",
       "    <tr>\n",
       "      <th>6640</th>\n",
       "      <td>844</td>\n",
       "      <td>vienna</td>\n",
       "      <td>1</td>\n",
       "      <td>irish</td>\n",
       "      <td>1</td>\n",
       "      <td>794</td>\n",
       "      <td>26</td>\n",
       "      <td>1</td>\n",
       "      <td>Accar Hotels</td>\n",
       "      <td>Marcure</td>\n",
       "      <td>1</td>\n",
       "      <td>0</td>\n",
       "      <td>0</td>\n",
       "      <td>4.929954</td>\n",
       "      <td>4.917355</td>\n",
       "      <td>4.902368</td>\n",
       "      <td>5.069187</td>\n",
       "      <td>5.217294</td>\n",
       "    </tr>\n",
       "    <tr>\n",
       "      <th>6641</th>\n",
       "      <td>844</td>\n",
       "      <td>vienna</td>\n",
       "      <td>1</td>\n",
       "      <td>irish</td>\n",
       "      <td>1</td>\n",
       "      <td>794</td>\n",
       "      <td>263</td>\n",
       "      <td>0</td>\n",
       "      <td>Boss Western</td>\n",
       "      <td>Boss Western</td>\n",
       "      <td>1</td>\n",
       "      <td>0</td>\n",
       "      <td>0</td>\n",
       "      <td>4.929954</td>\n",
       "      <td>4.917355</td>\n",
       "      <td>4.902368</td>\n",
       "      <td>4.846599</td>\n",
       "      <td>4.745022</td>\n",
       "    </tr>\n",
       "    <tr>\n",
       "      <th>6642</th>\n",
       "      <td>844</td>\n",
       "      <td>vienna</td>\n",
       "      <td>1</td>\n",
       "      <td>irish</td>\n",
       "      <td>1</td>\n",
       "      <td>794</td>\n",
       "      <td>456</td>\n",
       "      <td>0</td>\n",
       "      <td>Yin Yang</td>\n",
       "      <td>Ardisson</td>\n",
       "      <td>1</td>\n",
       "      <td>0</td>\n",
       "      <td>0</td>\n",
       "      <td>4.929954</td>\n",
       "      <td>4.917355</td>\n",
       "      <td>4.902368</td>\n",
       "      <td>4.883146</td>\n",
       "      <td>5.015954</td>\n",
       "    </tr>\n",
       "    <tr>\n",
       "      <th>6643</th>\n",
       "      <td>844</td>\n",
       "      <td>vienna</td>\n",
       "      <td>1</td>\n",
       "      <td>irish</td>\n",
       "      <td>1</td>\n",
       "      <td>794</td>\n",
       "      <td>699</td>\n",
       "      <td>0</td>\n",
       "      <td>Boss Western</td>\n",
       "      <td>Boss Western</td>\n",
       "      <td>1</td>\n",
       "      <td>0</td>\n",
       "      <td>0</td>\n",
       "      <td>4.929954</td>\n",
       "      <td>4.917355</td>\n",
       "      <td>4.902368</td>\n",
       "      <td>4.846599</td>\n",
       "      <td>4.745022</td>\n",
       "    </tr>\n",
       "    <tr>\n",
       "      <th>6644</th>\n",
       "      <td>1</td>\n",
       "      <td>vilnius</td>\n",
       "      <td>21</td>\n",
       "      <td>romanian</td>\n",
       "      <td>0</td>\n",
       "      <td>1</td>\n",
       "      <td>161</td>\n",
       "      <td>46</td>\n",
       "      <td>Boss Western</td>\n",
       "      <td>J.Halliday Inn</td>\n",
       "      <td>1</td>\n",
       "      <td>0</td>\n",
       "      <td>0</td>\n",
       "      <td>4.592237</td>\n",
       "      <td>4.917355</td>\n",
       "      <td>4.885303</td>\n",
       "      <td>4.846599</td>\n",
       "      <td>4.960246</td>\n",
       "    </tr>\n",
       "  </tbody>\n",
       "</table>\n",
       "<p>6645 rows × 18 columns</p>\n",
       "</div>"
      ],
      "text/plain": [
       "      order_requests     city  date  language mobile  avatar_id  hotel_id  \\\n",
       "0                  1  vilnius    21  romanian      0          1       161   \n",
       "1                  1  vilnius    21  romanian      0          1       187   \n",
       "2                  1  vilnius    21  romanian      0          1       279   \n",
       "3                  1  vilnius    21  romanian      0          1       395   \n",
       "4                  1  vilnius    21  romanian      0          1       488   \n",
       "...              ...      ...   ...       ...    ...        ...       ...   \n",
       "6640             844   vienna     1     irish      1        794        26   \n",
       "6641             844   vienna     1     irish      1        794       263   \n",
       "6642             844   vienna     1     irish      1        794       456   \n",
       "6643             844   vienna     1     irish      1        794       699   \n",
       "6644               1  vilnius    21  romanian      0          1       161   \n",
       "\n",
       "      stock         group           brand parking pool children_policy  \\\n",
       "0        46  Boss Western  J.Halliday Inn       1    0               0   \n",
       "1        32  Accar Hotels         Marcure       1    1               0   \n",
       "2        12   Independant     Independant       1    0               0   \n",
       "3        10  Accar Hotels            Ibas       0    0               0   \n",
       "4        42  Accar Hotels         Safitel       1    1               1   \n",
       "...     ...           ...             ...     ...  ...             ...   \n",
       "6640      1  Accar Hotels         Marcure       1    0               0   \n",
       "6641      0  Boss Western    Boss Western       1    0               0   \n",
       "6642      0      Yin Yang        Ardisson       1    0               0   \n",
       "6643      0  Boss Western    Boss Western       1    0               0   \n",
       "6644     46  Boss Western  J.Halliday Inn       1    0               0   \n",
       "\n",
       "      city_target  hotel_id_target  language_target  group_target  \\\n",
       "0        4.592237         4.917355         4.885303      4.846599   \n",
       "1        4.592237         4.917355         4.885303      5.069187   \n",
       "2        4.592237         4.917355         4.885303      4.512066   \n",
       "3        4.592237         4.917355         4.885303      5.069187   \n",
       "4        4.592237         4.917355         4.885303      5.069187   \n",
       "...           ...              ...              ...           ...   \n",
       "6640     4.929954         4.917355         4.902368      5.069187   \n",
       "6641     4.929954         4.917355         4.902368      4.846599   \n",
       "6642     4.929954         4.917355         4.902368      4.883146   \n",
       "6643     4.929954         4.917355         4.902368      4.846599   \n",
       "6644     4.592237         4.917355         4.885303      4.846599   \n",
       "\n",
       "      brand_target  \n",
       "0         4.960246  \n",
       "1         5.217294  \n",
       "2         4.512066  \n",
       "3         4.366360  \n",
       "4         5.603255  \n",
       "...            ...  \n",
       "6640      5.217294  \n",
       "6641      4.745022  \n",
       "6642      5.015954  \n",
       "6643      4.745022  \n",
       "6644      4.960246  \n",
       "\n",
       "[6645 rows x 18 columns]"
      ]
     },
     "execution_count": 48,
     "metadata": {},
     "output_type": "execute_result"
    }
   ],
   "source": [
    "data_test"
   ]
  },
  {
   "cell_type": "code",
   "execution_count": null,
   "id": "09e757a3",
   "metadata": {},
   "outputs": [],
   "source": [
    "####A COMPRENDRE "
   ]
  },
  {
   "cell_type": "code",
   "execution_count": null,
   "id": "6006ecdf",
   "metadata": {},
   "outputs": [],
   "source": [
    "outputs = gr.outputs.Textbox()\n",
    "\n",
    "app = gr.Interface(fn=diabetes, inputs=['number','number','number','number','number','number','number','number'], outputs=outputs,description=\"This is a diabetes model\")"
   ]
  },
  {
   "cell_type": "code",
   "execution_count": 49,
   "id": "0498c46e",
   "metadata": {},
   "outputs": [
    {
     "name": "stdout",
     "output_type": "stream",
     "text": [
      "Running on local URL:  http://127.0.0.1:7860\n",
      "\n",
      "To create a public link, set `share=True` in `launch()`.\n"
     ]
    },
    {
     "data": {
      "text/html": [
       "<div><iframe src=\"http://127.0.0.1:7860/\" width=\"900\" height=\"500\" allow=\"autoplay; camera; microphone;\" frameborder=\"0\" allowfullscreen></iframe></div>"
      ],
      "text/plain": [
       "<IPython.core.display.HTML object>"
      ]
     },
     "metadata": {},
     "output_type": "display_data"
    },
    {
     "data": {
      "text/plain": [
       "(<gradio.routes.App at 0x2870d0f0790>, 'http://127.0.0.1:7860/', None)"
      ]
     },
     "execution_count": 49,
     "metadata": {},
     "output_type": "execute_result"
    }
   ],
   "source": [
    "import gradio as gr\n",
    "\n",
    "def greet(name):\n",
    "\n",
    "    \n",
    "    return \"Hello \" + name + \"!\"\n",
    "\n",
    "demo = gr.Interface(fn=diabetes, inputs=['number','number','number','number','number','number','number','number'], outputs=outputs,description=\"This is a diabetes model\")\n",
    "demo.launch()   "
   ]
  },
  {
   "cell_type": "code",
   "execution_count": 51,
   "id": "035e37c0",
   "metadata": {},
   "outputs": [
    {
     "ename": "NameError",
     "evalue": "name 'outputs' is not defined",
     "output_type": "error",
     "traceback": [
      "\u001b[1;31m---------------------------------------------------------------------------\u001b[0m",
      "\u001b[1;31mNameError\u001b[0m                                 Traceback (most recent call last)",
      "\u001b[1;32m<ipython-input-51-f008d2b72a96>\u001b[0m in \u001b[0;36m<module>\u001b[1;34m\u001b[0m\n\u001b[0;32m      2\u001b[0m     \u001b[0moutputs\u001b[0m \u001b[1;33m=\u001b[0m \u001b[0mgr\u001b[0m\u001b[1;33m.\u001b[0m\u001b[0moutputs\u001b[0m\u001b[1;33m.\u001b[0m\u001b[0mTextbox\u001b[0m\u001b[1;33m(\u001b[0m\u001b[1;33m)\u001b[0m\u001b[1;33m\u001b[0m\u001b[1;33m\u001b[0m\u001b[0m\n\u001b[0;32m      3\u001b[0m \u001b[1;33m\u001b[0m\u001b[0m\n\u001b[1;32m----> 4\u001b[1;33m \u001b[0mapp\u001b[0m \u001b[1;33m=\u001b[0m \u001b[0mgr\u001b[0m\u001b[1;33m.\u001b[0m\u001b[0mInterface\u001b[0m\u001b[1;33m(\u001b[0m\u001b[0mfn\u001b[0m\u001b[1;33m=\u001b[0m\u001b[0mpredict_price\u001b[0m\u001b[1;33m,\u001b[0m \u001b[0minputs\u001b[0m\u001b[1;33m=\u001b[0m\u001b[1;33m[\u001b[0m\u001b[1;34m'number'\u001b[0m\u001b[1;33m,\u001b[0m\u001b[1;34m'number'\u001b[0m\u001b[1;33m,\u001b[0m\u001b[1;34m'number'\u001b[0m\u001b[1;33m,\u001b[0m\u001b[1;34m'number'\u001b[0m\u001b[1;33m,\u001b[0m\u001b[1;34m'number'\u001b[0m\u001b[1;33m,\u001b[0m\u001b[1;34m'number'\u001b[0m\u001b[1;33m,\u001b[0m\u001b[1;34m'number'\u001b[0m\u001b[1;33m,\u001b[0m\u001b[1;34m'number'\u001b[0m\u001b[1;33m,\u001b[0m\u001b[1;34m'number'\u001b[0m\u001b[1;33m,\u001b[0m\u001b[1;34m'number'\u001b[0m\u001b[1;33m,\u001b[0m\u001b[1;34m'number'\u001b[0m\u001b[1;33m,\u001b[0m\u001b[1;34m'number'\u001b[0m\u001b[1;33m,\u001b[0m\u001b[1;34m'number'\u001b[0m\u001b[1;33m]\u001b[0m\u001b[1;33m,\u001b[0m \u001b[0moutputs\u001b[0m\u001b[1;33m=\u001b[0m\u001b[0moutputs\u001b[0m\u001b[1;33m,\u001b[0m\u001b[0mdescription\u001b[0m\u001b[1;33m=\u001b[0m\u001b[1;34m\"Yo\"\u001b[0m\u001b[1;33m)\u001b[0m\u001b[1;33m\u001b[0m\u001b[1;33m\u001b[0m\u001b[0m\n\u001b[0m\u001b[0;32m      5\u001b[0m \u001b[0mapp\u001b[0m\u001b[1;33m.\u001b[0m\u001b[0mlaunch\u001b[0m\u001b[1;33m(\u001b[0m\u001b[1;33m)\u001b[0m\u001b[1;33m\u001b[0m\u001b[1;33m\u001b[0m\u001b[0m\n",
      "\u001b[1;31mNameError\u001b[0m: name 'outputs' is not defined"
     ]
    }
   ],
   "source": [
    "def predict_price(order_requests, city, date, language, mobile, avatar_id, hotel_id, stock, group, brand, parking, pool, children_policy) :  \n",
    "    outputs = gr.outputs.Textbox()\n",
    "\n",
    "app = gr.Interface(fn=predict_price, inputs=['number','number','number','number','number','number','number','number','number','number','number','number','number'], outputs=outputs,description=\"Yo\")\n",
    "app.launch()  "
   ]
  },
  {
   "cell_type": "markdown",
   "id": "d252c5b1",
   "metadata": {},
   "source": [
    "### Vrai gradio"
   ]
  },
  {
   "cell_type": "code",
   "execution_count": 14,
   "id": "f32c567e",
   "metadata": {},
   "outputs": [],
   "source": [
    "#pip install gradio \n",
    "import gradio"
   ]
  },
  {
   "cell_type": "code",
   "execution_count": 9,
   "id": "661e9050",
   "metadata": {},
   "outputs": [
    {
     "ename": "AttributeError",
     "evalue": "module 'gradio' has no attribute 'inputs'",
     "output_type": "error",
     "traceback": [
      "\u001b[1;31m---------------------------------------------------------------------------\u001b[0m",
      "\u001b[1;31mAttributeError\u001b[0m                            Traceback (most recent call last)",
      "\u001b[1;32m<ipython-input-9-a13fdc16d54f>\u001b[0m in \u001b[0;36m<module>\u001b[1;34m\u001b[0m\n\u001b[0;32m      1\u001b[0m \u001b[1;31m# Demander les attributs à l'utilisateur\u001b[0m\u001b[1;33m\u001b[0m\u001b[1;33m\u001b[0m\u001b[1;33m\u001b[0m\u001b[0m\n\u001b[1;32m----> 2\u001b[1;33m \u001b[0min1\u001b[0m \u001b[1;33m=\u001b[0m \u001b[0mgr\u001b[0m\u001b[1;33m.\u001b[0m\u001b[0minputs\u001b[0m\u001b[1;33m.\u001b[0m\u001b[0mDropdown\u001b[0m\u001b[1;33m(\u001b[0m\u001b[0mchoices\u001b[0m\u001b[1;33m=\u001b[0m\u001b[1;33m[\u001b[0m\u001b[1;34m\"Val 1\"\u001b[0m\u001b[1;33m,\u001b[0m \u001b[1;34m\"Val 2\"\u001b[0m\u001b[1;33m,\u001b[0m \u001b[1;34m\"Val 3\"\u001b[0m\u001b[1;33m]\u001b[0m\u001b[1;33m)\u001b[0m\u001b[1;33m\u001b[0m\u001b[1;33m\u001b[0m\u001b[0m\n\u001b[0m\u001b[0;32m      3\u001b[0m gr.Interface(fn=test_4, \n\u001b[0;32m      4\u001b[0m              \u001b[0minputs\u001b[0m\u001b[1;33m=\u001b[0m\u001b[0min1\u001b[0m\u001b[1;33m,\u001b[0m\u001b[1;33m\u001b[0m\u001b[1;33m\u001b[0m\u001b[0m\n\u001b[0;32m      5\u001b[0m              outputs=\"text\").launch()\n",
      "\u001b[1;31mAttributeError\u001b[0m: module 'gradio' has no attribute 'inputs'"
     ]
    }
   ],
   "source": [
    "# Demander les attributs à l'utilisateur \n",
    "in1 = gr.inputs.Dropdown(choices=[\"Val 1\", \"Val 2\", \"Val 3\"])\n",
    "gr.Interface(fn=test_4, \n",
    "             inputs=in1, \n",
    "             outputs=\"text\").launch()"
   ]
  },
  {
   "cell_type": "code",
   "execution_count": 15,
   "id": "4224f70c",
   "metadata": {},
   "outputs": [
    {
     "ename": "AttributeError",
     "evalue": "module 'gradio' has no attribute 'Interface'",
     "output_type": "error",
     "traceback": [
      "\u001b[1;31m---------------------------------------------------------------------------\u001b[0m",
      "\u001b[1;31mAttributeError\u001b[0m                            Traceback (most recent call last)",
      "\u001b[1;32m<ipython-input-15-fbebc177f477>\u001b[0m in \u001b[0;36m<module>\u001b[1;34m\u001b[0m\n\u001b[0;32m      2\u001b[0m     \u001b[1;32mreturn\u001b[0m \u001b[1;34m\"Vous avez entré cette valeur: \"\u001b[0m \u001b[1;33m+\u001b[0m \u001b[0mname\u001b[0m \u001b[1;33m+\u001b[0m \u001b[1;34m\"!\"\u001b[0m\u001b[1;33m\u001b[0m\u001b[1;33m\u001b[0m\u001b[0m\n\u001b[0;32m      3\u001b[0m \u001b[1;33m\u001b[0m\u001b[0m\n\u001b[1;32m----> 4\u001b[1;33m gradio.Interface(fn=test_1, \n\u001b[0m\u001b[0;32m      5\u001b[0m              \u001b[0minputs\u001b[0m\u001b[1;33m=\u001b[0m\u001b[1;34m\"text\"\u001b[0m\u001b[1;33m,\u001b[0m\u001b[1;33m\u001b[0m\u001b[1;33m\u001b[0m\u001b[0m\n\u001b[0;32m      6\u001b[0m              outputs=\"text\").launch()\n",
      "\u001b[1;31mAttributeError\u001b[0m: module 'gradio' has no attribute 'Interface'"
     ]
    }
   ],
   "source": [
    "def test_1(name):\n",
    "    return \"Vous avez entré cette valeur: \" + name + \"!\"\n",
    " \n",
    "gradio.Interface(fn=test_1, \n",
    "             inputs=\"text\", \n",
    "             outputs=\"text\").launch()"
   ]
  },
  {
   "cell_type": "code",
   "execution_count": null,
   "id": "46d92c7c",
   "metadata": {},
   "outputs": [],
   "source": []
  }
 ],
 "metadata": {
  "kernelspec": {
   "display_name": "Python 3",
   "language": "python",
   "name": "python3"
  },
  "language_info": {
   "codemirror_mode": {
    "name": "ipython",
    "version": 3
   },
   "file_extension": ".py",
   "mimetype": "text/x-python",
   "name": "python",
   "nbconvert_exporter": "python",
   "pygments_lexer": "ipython3",
   "version": "3.8.8"
  }
 },
 "nbformat": 4,
 "nbformat_minor": 5
}
