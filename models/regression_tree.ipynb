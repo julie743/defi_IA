{
 "cells": [
  {
   "cell_type": "markdown",
   "id": "846bfd56",
   "metadata": {},
   "source": [
    "# Arbre de regression"
   ]
  },
  {
   "cell_type": "code",
   "execution_count": 1,
   "id": "cdc55ac9",
   "metadata": {},
   "outputs": [],
   "source": [
    "import numpy as np\n",
    "import pandas as pd\n",
    "import matplotlib.pyplot as plt\n",
    "import copy\n",
    "from math import log,sqrt,exp\n",
    "\n",
    "import random\n",
    "from sklearn.model_selection import train_test_split  \n",
    "from sklearn.preprocessing import StandardScaler \n",
    "from sklearn.metrics import r2_score\n",
    "from sklearn.metrics import mean_squared_error, mean_absolute_error\n",
    "from itertools import cycle\n",
    "from sklearn.model_selection import GridSearchCV\n",
    "\n",
    "from sklearn.tree import export_graphviz\n",
    "import six\n",
    "from six import StringIO  \n",
    "import pydotplus\n",
    "from sklearn.tree import DecisionTreeRegressor\n",
    "from sklearn import tree"
   ]
  },
  {
   "cell_type": "markdown",
   "id": "553054f1",
   "metadata": {},
   "source": [
    "# Chargement et mise en forme des données"
   ]
  },
  {
   "cell_type": "code",
   "execution_count": 2,
   "id": "f144543a",
   "metadata": {},
   "outputs": [
    {
     "data": {
      "text/html": [
       "<div>\n",
       "<style scoped>\n",
       "    .dataframe tbody tr th:only-of-type {\n",
       "        vertical-align: middle;\n",
       "    }\n",
       "\n",
       "    .dataframe tbody tr th {\n",
       "        vertical-align: top;\n",
       "    }\n",
       "\n",
       "    .dataframe thead th {\n",
       "        text-align: right;\n",
       "    }\n",
       "</style>\n",
       "<table border=\"1\" class=\"dataframe\">\n",
       "  <thead>\n",
       "    <tr style=\"text-align: right;\">\n",
       "      <th></th>\n",
       "      <th>avatar_id</th>\n",
       "      <th>city</th>\n",
       "      <th>date</th>\n",
       "      <th>language</th>\n",
       "      <th>mobile</th>\n",
       "      <th>hotel_id</th>\n",
       "      <th>price</th>\n",
       "      <th>stock</th>\n",
       "      <th>group</th>\n",
       "      <th>brand</th>\n",
       "      <th>parking</th>\n",
       "      <th>pool</th>\n",
       "      <th>children_policy</th>\n",
       "    </tr>\n",
       "  </thead>\n",
       "  <tbody>\n",
       "    <tr>\n",
       "      <th>0</th>\n",
       "      <td>29822</td>\n",
       "      <td>madrid</td>\n",
       "      <td>2</td>\n",
       "      <td>bulgarian</td>\n",
       "      <td>0</td>\n",
       "      <td>127</td>\n",
       "      <td>69</td>\n",
       "      <td>0</td>\n",
       "      <td>Independant</td>\n",
       "      <td>Independant</td>\n",
       "      <td>1</td>\n",
       "      <td>0</td>\n",
       "      <td>0</td>\n",
       "    </tr>\n",
       "    <tr>\n",
       "      <th>1</th>\n",
       "      <td>29822</td>\n",
       "      <td>madrid</td>\n",
       "      <td>2</td>\n",
       "      <td>bulgarian</td>\n",
       "      <td>0</td>\n",
       "      <td>941</td>\n",
       "      <td>67</td>\n",
       "      <td>0</td>\n",
       "      <td>Independant</td>\n",
       "      <td>Independant</td>\n",
       "      <td>1</td>\n",
       "      <td>0</td>\n",
       "      <td>0</td>\n",
       "    </tr>\n",
       "    <tr>\n",
       "      <th>2</th>\n",
       "      <td>29822</td>\n",
       "      <td>madrid</td>\n",
       "      <td>2</td>\n",
       "      <td>bulgarian</td>\n",
       "      <td>0</td>\n",
       "      <td>186</td>\n",
       "      <td>129</td>\n",
       "      <td>0</td>\n",
       "      <td>Yin Yang</td>\n",
       "      <td>Ardisson</td>\n",
       "      <td>1</td>\n",
       "      <td>0</td>\n",
       "      <td>0</td>\n",
       "    </tr>\n",
       "    <tr>\n",
       "      <th>3</th>\n",
       "      <td>29822</td>\n",
       "      <td>madrid</td>\n",
       "      <td>2</td>\n",
       "      <td>bulgarian</td>\n",
       "      <td>0</td>\n",
       "      <td>633</td>\n",
       "      <td>148</td>\n",
       "      <td>2</td>\n",
       "      <td>Morriott International</td>\n",
       "      <td>CourtYord</td>\n",
       "      <td>0</td>\n",
       "      <td>0</td>\n",
       "      <td>0</td>\n",
       "    </tr>\n",
       "    <tr>\n",
       "      <th>4</th>\n",
       "      <td>29822</td>\n",
       "      <td>madrid</td>\n",
       "      <td>2</td>\n",
       "      <td>bulgarian</td>\n",
       "      <td>0</td>\n",
       "      <td>241</td>\n",
       "      <td>126</td>\n",
       "      <td>0</td>\n",
       "      <td>Boss Western</td>\n",
       "      <td>J.Halliday Inn</td>\n",
       "      <td>1</td>\n",
       "      <td>0</td>\n",
       "      <td>0</td>\n",
       "    </tr>\n",
       "  </tbody>\n",
       "</table>\n",
       "</div>"
      ],
      "text/plain": [
       "   avatar_id    city  date   language  mobile  hotel_id  price  stock  \\\n",
       "0      29822  madrid     2  bulgarian       0       127     69      0   \n",
       "1      29822  madrid     2  bulgarian       0       941     67      0   \n",
       "2      29822  madrid     2  bulgarian       0       186    129      0   \n",
       "3      29822  madrid     2  bulgarian       0       633    148      2   \n",
       "4      29822  madrid     2  bulgarian       0       241    126      0   \n",
       "\n",
       "                    group           brand  parking  pool  children_policy  \n",
       "0             Independant     Independant        1     0                0  \n",
       "1             Independant     Independant        1     0                0  \n",
       "2                Yin Yang        Ardisson        1     0                0  \n",
       "3  Morriott International       CourtYord        0     0                0  \n",
       "4            Boss Western  J.Halliday Inn        1     0                0  "
      ]
     },
     "execution_count": 2,
     "metadata": {},
     "output_type": "execute_result"
    }
   ],
   "source": [
    "PATH = '../requetes/'\n",
    "data = pd.read_csv(PATH+'requetes_total.csv')\n",
    "data.head()"
   ]
  },
  {
   "cell_type": "code",
   "execution_count": 4,
   "id": "7b6b4299",
   "metadata": {},
   "outputs": [],
   "source": [
    "# transformation des données en fonction de celles qu'on a identifié dans le notebook d'analyse des données de requetes\n",
    "data[\"price_mod\"]=data[\"price\"].map(lambda x: log(x))\n",
    "data[\"stock_mod\"]=data[\"stock\"].map(lambda x: sqrt(x))\n",
    "data_mod = data.drop([\"price\",\"stock\"],axis=1)"
   ]
  },
  {
   "cell_type": "markdown",
   "id": "7d02214e",
   "metadata": {},
   "source": [
    "Pour la mise en forme des données, je décide d'ajouter une colonne order_request, comme dans le set de test. \n",
    "\n",
    "Les lignes qui sont issues du résultat de la même requête se caractérisent par un ID d'utilisateur constant, une ville et une date constantes. "
   ]
  },
  {
   "cell_type": "code",
   "execution_count": 5,
   "id": "344b12c1",
   "metadata": {},
   "outputs": [],
   "source": [
    "order = np.zeros(len(data_mod.index),dtype=int)\n",
    "\n",
    "# référence pour le début = la première ligne du dataframe\n",
    "ref_line = 0\n",
    "order[0] = 1\n",
    "\n",
    "for line in range(0,len(data_mod.index)):\n",
    "    request_line = data_mod.loc[line,['avatar_id','city','date']].to_numpy()\n",
    "    request_ref_line = data_mod.loc[ref_line,['avatar_id','city','date']].to_numpy() \n",
    "    if (request_line == request_ref_line).all() :\n",
    "        order[line] = order[ref_line]\n",
    "    else : \n",
    "        order[line] = order[ref_line]+1\n",
    "        ref_line = line"
   ]
  },
  {
   "cell_type": "code",
   "execution_count": 6,
   "id": "77ae4a4f",
   "metadata": {},
   "outputs": [
    {
     "data": {
      "text/html": [
       "<div>\n",
       "<style scoped>\n",
       "    .dataframe tbody tr th:only-of-type {\n",
       "        vertical-align: middle;\n",
       "    }\n",
       "\n",
       "    .dataframe tbody tr th {\n",
       "        vertical-align: top;\n",
       "    }\n",
       "\n",
       "    .dataframe thead th {\n",
       "        text-align: right;\n",
       "    }\n",
       "</style>\n",
       "<table border=\"1\" class=\"dataframe\">\n",
       "  <thead>\n",
       "    <tr style=\"text-align: right;\">\n",
       "      <th></th>\n",
       "      <th>avatar_id</th>\n",
       "      <th>city</th>\n",
       "      <th>date</th>\n",
       "      <th>language</th>\n",
       "      <th>mobile</th>\n",
       "      <th>hotel_id</th>\n",
       "      <th>group</th>\n",
       "      <th>brand</th>\n",
       "      <th>parking</th>\n",
       "      <th>pool</th>\n",
       "      <th>children_policy</th>\n",
       "      <th>price_mod</th>\n",
       "      <th>stock_mod</th>\n",
       "      <th>order_requests</th>\n",
       "    </tr>\n",
       "  </thead>\n",
       "  <tbody>\n",
       "    <tr>\n",
       "      <th>0</th>\n",
       "      <td>29822</td>\n",
       "      <td>madrid</td>\n",
       "      <td>2</td>\n",
       "      <td>bulgarian</td>\n",
       "      <td>0</td>\n",
       "      <td>127</td>\n",
       "      <td>Independant</td>\n",
       "      <td>Independant</td>\n",
       "      <td>1</td>\n",
       "      <td>0</td>\n",
       "      <td>0</td>\n",
       "      <td>4.234107</td>\n",
       "      <td>0.000000</td>\n",
       "      <td>1</td>\n",
       "    </tr>\n",
       "    <tr>\n",
       "      <th>1</th>\n",
       "      <td>29822</td>\n",
       "      <td>madrid</td>\n",
       "      <td>2</td>\n",
       "      <td>bulgarian</td>\n",
       "      <td>0</td>\n",
       "      <td>941</td>\n",
       "      <td>Independant</td>\n",
       "      <td>Independant</td>\n",
       "      <td>1</td>\n",
       "      <td>0</td>\n",
       "      <td>0</td>\n",
       "      <td>4.204693</td>\n",
       "      <td>0.000000</td>\n",
       "      <td>1</td>\n",
       "    </tr>\n",
       "    <tr>\n",
       "      <th>2</th>\n",
       "      <td>29822</td>\n",
       "      <td>madrid</td>\n",
       "      <td>2</td>\n",
       "      <td>bulgarian</td>\n",
       "      <td>0</td>\n",
       "      <td>186</td>\n",
       "      <td>Yin Yang</td>\n",
       "      <td>Ardisson</td>\n",
       "      <td>1</td>\n",
       "      <td>0</td>\n",
       "      <td>0</td>\n",
       "      <td>4.859812</td>\n",
       "      <td>0.000000</td>\n",
       "      <td>1</td>\n",
       "    </tr>\n",
       "    <tr>\n",
       "      <th>3</th>\n",
       "      <td>29822</td>\n",
       "      <td>madrid</td>\n",
       "      <td>2</td>\n",
       "      <td>bulgarian</td>\n",
       "      <td>0</td>\n",
       "      <td>633</td>\n",
       "      <td>Morriott International</td>\n",
       "      <td>CourtYord</td>\n",
       "      <td>0</td>\n",
       "      <td>0</td>\n",
       "      <td>0</td>\n",
       "      <td>4.997212</td>\n",
       "      <td>1.414214</td>\n",
       "      <td>1</td>\n",
       "    </tr>\n",
       "    <tr>\n",
       "      <th>4</th>\n",
       "      <td>29822</td>\n",
       "      <td>madrid</td>\n",
       "      <td>2</td>\n",
       "      <td>bulgarian</td>\n",
       "      <td>0</td>\n",
       "      <td>241</td>\n",
       "      <td>Boss Western</td>\n",
       "      <td>J.Halliday Inn</td>\n",
       "      <td>1</td>\n",
       "      <td>0</td>\n",
       "      <td>0</td>\n",
       "      <td>4.836282</td>\n",
       "      <td>0.000000</td>\n",
       "      <td>1</td>\n",
       "    </tr>\n",
       "  </tbody>\n",
       "</table>\n",
       "</div>"
      ],
      "text/plain": [
       "   avatar_id    city  date   language  mobile  hotel_id  \\\n",
       "0      29822  madrid     2  bulgarian       0       127   \n",
       "1      29822  madrid     2  bulgarian       0       941   \n",
       "2      29822  madrid     2  bulgarian       0       186   \n",
       "3      29822  madrid     2  bulgarian       0       633   \n",
       "4      29822  madrid     2  bulgarian       0       241   \n",
       "\n",
       "                    group           brand  parking  pool  children_policy  \\\n",
       "0             Independant     Independant        1     0                0   \n",
       "1             Independant     Independant        1     0                0   \n",
       "2                Yin Yang        Ardisson        1     0                0   \n",
       "3  Morriott International       CourtYord        0     0                0   \n",
       "4            Boss Western  J.Halliday Inn        1     0                0   \n",
       "\n",
       "   price_mod  stock_mod  order_requests  \n",
       "0   4.234107   0.000000               1  \n",
       "1   4.204693   0.000000               1  \n",
       "2   4.859812   0.000000               1  \n",
       "3   4.997212   1.414214               1  \n",
       "4   4.836282   0.000000               1  "
      ]
     },
     "execution_count": 6,
     "metadata": {},
     "output_type": "execute_result"
    }
   ],
   "source": [
    "data_mod['order_requests'] = order\n",
    "data_mod.head()"
   ]
  },
  {
   "cell_type": "markdown",
   "id": "359bfa0d",
   "metadata": {},
   "source": [
    "On change les types des variables."
   ]
  },
  {
   "cell_type": "code",
   "execution_count": 7,
   "id": "86474c96",
   "metadata": {},
   "outputs": [
    {
     "data": {
      "text/plain": [
       "avatar_id             int64\n",
       "city               category\n",
       "date                  int64\n",
       "language           category\n",
       "mobile             category\n",
       "hotel_id              int64\n",
       "group              category\n",
       "brand              category\n",
       "parking            category\n",
       "pool               category\n",
       "children_policy    category\n",
       "price_mod           float64\n",
       "stock_mod           float64\n",
       "order_requests        int64\n",
       "dtype: object"
      ]
     },
     "execution_count": 7,
     "metadata": {},
     "output_type": "execute_result"
    }
   ],
   "source": [
    "# définition des variables quntitatives et qualitatives : \n",
    "var_quant = [\"date\",\"stock_mod\",\"hotel_id\"]\n",
    "var_quali = [\"city\",\"language\", \"mobile\",\"group\",\"brand\",\"parking\",\"pool\",\"children_policy\"]\n",
    "\n",
    "for var in var_quali :\n",
    "    data_mod[var]=pd.Categorical(data_mod[var],ordered=False)\n",
    "\n",
    "data_mod.dtypes"
   ]
  },
  {
   "cell_type": "code",
   "execution_count": 8,
   "id": "8a71c43a",
   "metadata": {},
   "outputs": [],
   "source": [
    "# Renormalisation des variables quantitatives : \n",
    "scalerX = StandardScaler()  \n",
    "scalerX.fit(data_mod[var_quant])  \n",
    "X_quant = pd.DataFrame(scalerX.transform(data_mod[var_quant]),columns=var_quant)\n",
    "\n",
    "# Séparation de l'output :\n",
    "Y = data_mod[\"price_mod\"].to_numpy()"
   ]
  },
  {
   "cell_type": "code",
   "execution_count": 9,
   "id": "ebf7199b",
   "metadata": {},
   "outputs": [],
   "source": [
    "# transformation des variables qualitatives en dummy variables\n",
    "X_dum = pd.get_dummies(data_mod[var_quali],drop_first=True)\n",
    "X = pd.concat([data_mod[['order_requests','avatar_id']],X_quant,X_dum],axis=1)"
   ]
  },
  {
   "cell_type": "markdown",
   "id": "6d870ea6",
   "metadata": {},
   "source": [
    "# Fonctions utiles"
   ]
  },
  {
   "cell_type": "code",
   "execution_count": 10,
   "id": "790011f4",
   "metadata": {},
   "outputs": [],
   "source": [
    "def plot_pred_obs(Y_true,Y_pred): \n",
    "    plt.figure(figsize=(5,5))\n",
    "    plt.plot(Y_true,Y_pred,\"o\",markersize = 0.4)\n",
    "    plt.xlabel(\"prix prédit\")\n",
    "    plt.ylabel(\"prix observé\")\n",
    "    plt.show()\n",
    "\n",
    "def scatterplot_residuals(Y_true,Y_pred):\n",
    "    plt.figure(figsize=(5,5))\n",
    "    plt.plot(Y_pred,Y_true-Y_pred,\"o\",markersize = 0.4)\n",
    "    plt.xlabel(u\"valeurs prédites\")\n",
    "    plt.ylabel(u\"Résidus\")\n",
    "    plt.title(\"Residus pénalité L1 Lasso\") \n",
    "    plt.hlines(0,0,3)\n",
    "    plt.show()\n",
    "    \n",
    "def histogram_residuals(Y_true,Y_pred):\n",
    "    plt.figure(figsize=(10,5))\n",
    "    plt.hist(Y_true-Y_pred,bins=20)\n",
    "    plt.title('histogramme des résidus')\n",
    "    plt.xlabel('valeur des résidus')\n",
    "    plt.ylabel('nombre de prédictions')\n",
    "    plt.show()\n",
    "    "
   ]
  },
  {
   "cell_type": "code",
   "execution_count": 11,
   "id": "09f87908",
   "metadata": {},
   "outputs": [],
   "source": [
    "def download_pred_Xtest(Y_pred,name_model) :\n",
    "    Y_pred['index'] = Y_pred.index\n",
    "    Y_pred = Y_pred[['index','price']]\n",
    "    Y_pred.to_csv('../predictions/'+name_model+'.csv',index=False)"
   ]
  },
  {
   "cell_type": "markdown",
   "id": "d1c1dcf4",
   "metadata": {},
   "source": [
    "# Préparation des données de test "
   ]
  },
  {
   "cell_type": "code",
   "execution_count": 12,
   "id": "ef6de22b",
   "metadata": {},
   "outputs": [
    {
     "data": {
      "text/plain": [
       "order_requests      int64\n",
       "city               object\n",
       "date                int64\n",
       "language           object\n",
       "mobile              int64\n",
       "avatar_id           int64\n",
       "hotel_id            int64\n",
       "stock               int64\n",
       "group              object\n",
       "brand              object\n",
       "parking             int64\n",
       "pool                int64\n",
       "children_policy     int64\n",
       "dtype: object"
      ]
     },
     "execution_count": 12,
     "metadata": {},
     "output_type": "execute_result"
    }
   ],
   "source": [
    "# chargement des données de test : \n",
    "data_test = pd.read_csv('../Test_set_analysis/test_set_complet.csv')\n",
    "data_test.dtypes"
   ]
  },
  {
   "cell_type": "code",
   "execution_count": 13,
   "id": "652e05f9",
   "metadata": {},
   "outputs": [],
   "source": [
    "# apply the same transformations on the test set : \n",
    "# qualitative variables to categorical \n",
    "for var in var_quali :\n",
    "    data_test[var]=pd.Categorical(data_test[var],ordered=False)\n",
    "    \n",
    "# recentrer et renormaliser les variables : \n",
    "data_test[\"stock_mod\"]=data_test[\"stock\"].map(lambda x: sqrt(x))\n",
    "data_test_mod = data_test.drop([\"stock\"],axis=1)\n",
    "scaler_test = StandardScaler()  \n",
    "scaler_test.fit(data_test_mod[var_quant])\n",
    "X_test_quant = pd.DataFrame(scaler_test.transform(data_test_mod[var_quant]),columns=var_quant)\n",
    "\n",
    "# transformation des variables qualitatives en dummy variables\n",
    "X_test_dum = pd.get_dummies(data_test_mod[var_quali],drop_first=True)\n",
    "X_test = pd.concat([data_test_mod[['order_requests']],X_test_quant,X_test_dum],axis=1)"
   ]
  },
  {
   "cell_type": "markdown",
   "id": "561fdc50",
   "metadata": {},
   "source": [
    "# Séparation des données en échantillon d'entrainement et validation"
   ]
  },
  {
   "cell_type": "code",
   "execution_count": 14,
   "id": "163d3824",
   "metadata": {},
   "outputs": [],
   "source": [
    "# 20% des avatar_ID seront dans le test set et 80% dans le train set\n",
    "random.seed(0)\n",
    "alpha = 0.8\n",
    "ind_user = np.unique(data_mod['avatar_id'])\n",
    "n = len(ind_user)\n",
    "random.shuffle(ind_user)\n",
    "ind_train = ind_user[:int(alpha*n)]\n",
    "ind_vali = ind_user[int(alpha*n):]\n",
    "\n",
    "# sélection des lignes correspondantes dans le dataframe \n",
    "X_train = X.loc[X['avatar_id'].isin(ind_train)]\n",
    "X_vali = X.loc[X['avatar_id'].isin(ind_vali)]"
   ]
  },
  {
   "cell_type": "code",
   "execution_count": 15,
   "id": "7bde95d3",
   "metadata": {},
   "outputs": [],
   "source": [
    "# séparation de la colonne des outputs en training et validation : \n",
    "indX_train = X.index[X['avatar_id'].isin(ind_train)]\n",
    "Y_train = Y[indX_train]\n",
    "indX_vali = X.index[X['avatar_id'].isin(ind_vali)]\n",
    "Y_vali = Y[indX_vali]"
   ]
  },
  {
   "cell_type": "code",
   "execution_count": 16,
   "id": "712000b0",
   "metadata": {},
   "outputs": [
    {
     "name": "stderr",
     "output_type": "stream",
     "text": [
      "/tmp/ipykernel_4638/308316514.py:2: SettingWithCopyWarning: \n",
      "A value is trying to be set on a copy of a slice from a DataFrame\n",
      "\n",
      "See the caveats in the documentation: https://pandas.pydata.org/pandas-docs/stable/user_guide/indexing.html#returning-a-view-versus-a-copy\n",
      "  X_train.drop(['avatar_id'],axis=1,inplace=True)\n",
      "/tmp/ipykernel_4638/308316514.py:3: SettingWithCopyWarning: \n",
      "A value is trying to be set on a copy of a slice from a DataFrame\n",
      "\n",
      "See the caveats in the documentation: https://pandas.pydata.org/pandas-docs/stable/user_guide/indexing.html#returning-a-view-versus-a-copy\n",
      "  X_vali.drop(['avatar_id'],axis=1,inplace=True)\n"
     ]
    }
   ],
   "source": [
    "# suppression des ID maintenant qu'on en a plus besoin\n",
    "X_train.drop(['avatar_id'],axis=1,inplace=True)\n",
    "X_vali.drop(['avatar_id'],axis=1,inplace=True)"
   ]
  },
  {
   "cell_type": "markdown",
   "id": "bbeca257",
   "metadata": {},
   "source": [
    "# Construction du modèle et analyse des résultats"
   ]
  },
  {
   "cell_type": "code",
   "execution_count": 17,
   "id": "20309ba5",
   "metadata": {},
   "outputs": [
    {
     "name": "stdout",
     "output_type": "stream",
     "text": [
      "Meilleur score = 0.004988, Meilleur paramètre = {'max_depth': 34}\n"
     ]
    }
   ],
   "source": [
    "param=[{\"max_depth\":list(range(20,35))}]\n",
    "tree= GridSearchCV(DecisionTreeRegressor(),param,cv=10,n_jobs=-1)\n",
    "treeOptr=tree.fit(X_train, Y_train)\n",
    "print(\"Meilleur score = %f, Meilleur paramètre = %s\" % (1. - treeOptr.best_score_,treeOptr.best_params_))"
   ]
  },
  {
   "cell_type": "code",
   "execution_count": 18,
   "id": "773d47bb",
   "metadata": {},
   "outputs": [
    {
     "data": {
      "text/plain": [
       "DecisionTreeRegressor(max_depth=34)"
      ]
     },
     "execution_count": 18,
     "metadata": {},
     "output_type": "execute_result"
    }
   ],
   "source": [
    "treeR=DecisionTreeRegressor(max_depth=treeOptr.best_params_['max_depth']) #on optimise ici selon la profondeur\n",
    "treeR.fit(X_train,Y_train)"
   ]
  },
  {
   "cell_type": "markdown",
   "id": "66583509",
   "metadata": {},
   "source": [
    "## Prédiction de l'échantilon de validation"
   ]
  },
  {
   "cell_type": "code",
   "execution_count": 19,
   "id": "9a0693c1",
   "metadata": {},
   "outputs": [],
   "source": [
    "# prédiction de l'échantillon de validation\n",
    "prev=treeR.predict(X_vali)"
   ]
  },
  {
   "cell_type": "code",
   "execution_count": 20,
   "id": "444dd251",
   "metadata": {},
   "outputs": [],
   "source": [
    "prev_detransfo = np.exp(prev)\n",
    "Y_vali_detransfo = np.exp(Y_vali)"
   ]
  },
  {
   "cell_type": "code",
   "execution_count": 21,
   "id": "b66af82b",
   "metadata": {},
   "outputs": [
    {
     "data": {
      "image/png": "[encoded data removed]",
      "text/plain": [
       "<Figure size 500x500 with 1 Axes>"
      ]
     },
     "metadata": {},
     "output_type": "display_data"
    }
   ],
   "source": [
    "plot_pred_obs(Y_vali_detransfo,prev_detransfo)"
   ]
  },
  {
   "cell_type": "code",
   "execution_count": 22,
   "id": "ca2c8d03",
   "metadata": {},
   "outputs": [
    {
     "data": {
      "image/png": "[encoded data removed]",
      "text/plain": [
       "<Figure size 500x500 with 1 Axes>"
      ]
     },
     "metadata": {},
     "output_type": "display_data"
    }
   ],
   "source": [
    "scatterplot_residuals(Y_vali_detransfo,prev_detransfo)"
   ]
  },
  {
   "cell_type": "code",
   "execution_count": 23,
   "id": "0e60c8d8",
   "metadata": {},
   "outputs": [
    {
     "data": {
      "image/png": "[encoded data removed]",
      "text/plain": [
       "<Figure size 1000x500 with 1 Axes>"
      ]
     },
     "metadata": {},
     "output_type": "display_data"
    }
   ],
   "source": [
    "histogram_residuals(Y_vali_detransfo,prev_detransfo)"
   ]
  },
  {
   "cell_type": "code",
   "execution_count": 24,
   "id": "bdc174ef",
   "metadata": {},
   "outputs": [
    {
     "name": "stdout",
     "output_type": "stream",
     "text": [
      "RMSE= 5.5215898877488465\n",
      "erreur généralisation Python =  4.894480406301246\n"
     ]
    }
   ],
   "source": [
    "print(\"RMSE=\",np.sqrt(mean_squared_error(Y_vali_detransfo,prev_detransfo)))\n",
    "print(\"erreur généralisation Python = \", 1-treeOptr.score(X_vali,Y_vali_detransfo))"
   ]
  },
  {
   "cell_type": "markdown",
   "id": "8387d4b6",
   "metadata": {},
   "source": [
    "## On réentraine le modèle sur toutes les données et on calcule la prédiction sur l'échantillon de test"
   ]
  },
  {
   "cell_type": "code",
   "execution_count": 38,
   "id": "f0b06fe8",
   "metadata": {},
   "outputs": [
    {
     "name": "stdout",
     "output_type": "stream",
     "text": [
      "Meilleur score = 0.004143, Meilleur paramètre = {'max_depth': 33}\n"
     ]
    }
   ],
   "source": [
    "param=[{\"max_depth\":list(range(20,35))}]\n",
    "tree_complet = GridSearchCV(DecisionTreeRegressor(),param,cv=10,n_jobs=-1)\n",
    "treeOptr_complet=tree_complet.fit(X.drop(['avatar_id'],axis=1), Y)\n",
    "print(\"Meilleur score = %f, Meilleur paramètre = %s\" % (1. - treeOptr_complet.best_score_,treeOptr_complet.best_params_))"
   ]
  },
  {
   "cell_type": "code",
   "execution_count": 40,
   "id": "e9e2db4b",
   "metadata": {},
   "outputs": [
    {
     "data": {
      "text/plain": [
       "DecisionTreeRegressor(max_depth=33)"
      ]
     },
     "execution_count": 40,
     "metadata": {},
     "output_type": "execute_result"
    }
   ],
   "source": [
    "treeR_complet=DecisionTreeRegressor(max_depth=treeOptr_complet.best_params_['max_depth']) #on optimise ici selon la profondeur\n",
    "treeR_complet.fit(X.drop(['avatar_id'],axis=1), Y)"
   ]
  },
  {
   "cell_type": "code",
   "execution_count": 41,
   "id": "92441c04",
   "metadata": {},
   "outputs": [],
   "source": [
    "prev_test = treeR_complet.predict(X_test)\n",
    "prev_test = pd.DataFrame(np.exp(prev_test),columns=['price'])\n",
    "download_pred_Xtest(prev_test,'prediction_regression_tree')"
   ]
  },
  {
   "cell_type": "code",
   "execution_count": null,
   "id": "99a52cbc",
   "metadata": {},
   "outputs": [],
   "source": []
  }
 ],
 "metadata": {
  "kernelspec": {
   "display_name": "Python 3 (ipykernel)",
   "language": "python",
   "name": "python3"
  },
  "language_info": {
   "codemirror_mode": {
    "name": "ipython",
    "version": 3
   },
   "file_extension": ".py",
   "mimetype": "text/x-python",
   "name": "python",
   "nbconvert_exporter": "python",
   "pygments_lexer": "ipython3",
   "version": "3.8.5"
  },
  "toc": {
   "base_numbering": "0",
   "nav_menu": {},
   "number_sections": true,
   "sideBar": true,
   "skip_h1_title": false,
   "title_cell": "Table of Contents",
   "title_sidebar": "Contents",
   "toc_cell": false,
   "toc_position": {
    "height": "calc(100% - 180px)",
    "left": "10px",
    "top": "150px",
    "width": "165px"
   },
   "toc_section_display": true,
   "toc_window_display": false
  }
 },
 "nbformat": 4,
 "nbformat_minor": 5
}
