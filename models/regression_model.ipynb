{
 "cells": [
  {
   "cell_type": "markdown",
   "metadata": {},
   "source": [
    "# Modèle de regression"
   ]
  },
  {
   "cell_type": "markdown",
   "metadata": {},
   "source": [
    "# Chargement et mise en forme des données"
   ]
  },
  {
   "cell_type": "code",
   "execution_count": 376,
   "metadata": {},
   "outputs": [],
   "source": [
    "import numpy as np\n",
    "import pandas as pd\n",
    "import matplotlib.pyplot as plt\n",
    "import copy\n",
    "from math import log,sqrt,exp\n",
    "\n",
    "import random\n",
    "from sklearn.model_selection import train_test_split  \n",
    "from sklearn.preprocessing import StandardScaler \n",
    "from sklearn.metrics import r2_score\n",
    "from sklearn.metrics import mean_squared_error, mean_absolute_error\n",
    "from sklearn import linear_model\n",
    "from sklearn.model_selection import GridSearchCV\n",
    "from sklearn.linear_model import LassoCV, LassoLarsCV\n",
    "from itertools import cycle"
   ]
  },
  {
   "cell_type": "code",
   "execution_count": 377,
   "metadata": {},
   "outputs": [
    {
     "data": {
      "text/html": [
       "<div>\n",
       "<style scoped>\n",
       "    .dataframe tbody tr th:only-of-type {\n",
       "        vertical-align: middle;\n",
       "    }\n",
       "\n",
       "    .dataframe tbody tr th {\n",
       "        vertical-align: top;\n",
       "    }\n",
       "\n",
       "    .dataframe thead th {\n",
       "        text-align: right;\n",
       "    }\n",
       "</style>\n",
       "<table border=\"1\" class=\"dataframe\">\n",
       "  <thead>\n",
       "    <tr style=\"text-align: right;\">\n",
       "      <th></th>\n",
       "      <th>avatar_id</th>\n",
       "      <th>city</th>\n",
       "      <th>date</th>\n",
       "      <th>language</th>\n",
       "      <th>mobile</th>\n",
       "      <th>hotel_id</th>\n",
       "      <th>price</th>\n",
       "      <th>stock</th>\n",
       "      <th>group</th>\n",
       "      <th>brand</th>\n",
       "      <th>parking</th>\n",
       "      <th>pool</th>\n",
       "      <th>children_policy</th>\n",
       "    </tr>\n",
       "  </thead>\n",
       "  <tbody>\n",
       "    <tr>\n",
       "      <th>0</th>\n",
       "      <td>3530</td>\n",
       "      <td>paris</td>\n",
       "      <td>40</td>\n",
       "      <td>dutch</td>\n",
       "      <td>0</td>\n",
       "      <td>467</td>\n",
       "      <td>244</td>\n",
       "      <td>214</td>\n",
       "      <td>Accar Hotels</td>\n",
       "      <td>Safitel</td>\n",
       "      <td>0</td>\n",
       "      <td>0</td>\n",
       "      <td>0</td>\n",
       "    </tr>\n",
       "    <tr>\n",
       "      <th>1</th>\n",
       "      <td>3530</td>\n",
       "      <td>paris</td>\n",
       "      <td>40</td>\n",
       "      <td>dutch</td>\n",
       "      <td>0</td>\n",
       "      <td>708</td>\n",
       "      <td>147</td>\n",
       "      <td>102</td>\n",
       "      <td>Yin Yang</td>\n",
       "      <td>Ardisson</td>\n",
       "      <td>1</td>\n",
       "      <td>0</td>\n",
       "      <td>0</td>\n",
       "    </tr>\n",
       "    <tr>\n",
       "      <th>2</th>\n",
       "      <td>3530</td>\n",
       "      <td>paris</td>\n",
       "      <td>40</td>\n",
       "      <td>dutch</td>\n",
       "      <td>0</td>\n",
       "      <td>853</td>\n",
       "      <td>147</td>\n",
       "      <td>110</td>\n",
       "      <td>Chillton Worldwide</td>\n",
       "      <td>Tripletree</td>\n",
       "      <td>1</td>\n",
       "      <td>0</td>\n",
       "      <td>0</td>\n",
       "    </tr>\n",
       "    <tr>\n",
       "      <th>3</th>\n",
       "      <td>3530</td>\n",
       "      <td>paris</td>\n",
       "      <td>40</td>\n",
       "      <td>dutch</td>\n",
       "      <td>0</td>\n",
       "      <td>207</td>\n",
       "      <td>154</td>\n",
       "      <td>108</td>\n",
       "      <td>Boss Western</td>\n",
       "      <td>J.Halliday Inn</td>\n",
       "      <td>0</td>\n",
       "      <td>0</td>\n",
       "      <td>1</td>\n",
       "    </tr>\n",
       "    <tr>\n",
       "      <th>4</th>\n",
       "      <td>3530</td>\n",
       "      <td>paris</td>\n",
       "      <td>40</td>\n",
       "      <td>dutch</td>\n",
       "      <td>0</td>\n",
       "      <td>415</td>\n",
       "      <td>116</td>\n",
       "      <td>83</td>\n",
       "      <td>Boss Western</td>\n",
       "      <td>Boss Western</td>\n",
       "      <td>1</td>\n",
       "      <td>0</td>\n",
       "      <td>0</td>\n",
       "    </tr>\n",
       "  </tbody>\n",
       "</table>\n",
       "</div>"
      ],
      "text/plain": [
       "   avatar_id   city  date language  mobile  hotel_id  price  stock  \\\n",
       "0       3530  paris    40    dutch       0       467    244    214   \n",
       "1       3530  paris    40    dutch       0       708    147    102   \n",
       "2       3530  paris    40    dutch       0       853    147    110   \n",
       "3       3530  paris    40    dutch       0       207    154    108   \n",
       "4       3530  paris    40    dutch       0       415    116     83   \n",
       "\n",
       "                group           brand  parking  pool  children_policy  \n",
       "0        Accar Hotels         Safitel        0     0                0  \n",
       "1            Yin Yang        Ardisson        1     0                0  \n",
       "2  Chillton Worldwide      Tripletree        1     0                0  \n",
       "3        Boss Western  J.Halliday Inn        0     0                1  \n",
       "4        Boss Western    Boss Western        1     0                0  "
      ]
     },
     "execution_count": 377,
     "metadata": {},
     "output_type": "execute_result"
    }
   ],
   "source": [
    "PATH = '../requetes/'\n",
    "data = pd.read_csv(PATH+'requetes1.csv')\n",
    "data.head()"
   ]
  },
  {
   "cell_type": "code",
   "execution_count": 378,
   "metadata": {},
   "outputs": [],
   "source": [
    "# transformation des données en fonction de celles qu'on a identifié dans le notebook d'analyse des données de requetes\n",
    "data[\"price_mod\"]=data[\"price\"].map(lambda x: log(x))\n",
    "data[\"stock_mod\"]=data[\"stock\"].map(lambda x: sqrt(x))\n",
    "data_mod = data.drop([\"price\",\"stock\"],axis=1)"
   ]
  },
  {
   "cell_type": "markdown",
   "metadata": {},
   "source": [
    "Pour la mise en forme des données, je décide d'ajouter une colonne order_request, comme dans le set de test. On verra bien ce que ça donne. \n",
    "\n",
    "Les lignes qui sont issues du résultat de la même requête se caractérisent par un ID d'utilisateur constant, une ville et une date constantes. "
   ]
  },
  {
   "cell_type": "code",
   "execution_count": 379,
   "metadata": {},
   "outputs": [],
   "source": [
    "order = np.zeros(len(data_mod.index),dtype=int)\n",
    "\n",
    "# référence pour le début = la première ligne du dataframe\n",
    "ref_line = 0\n",
    "order[0] = 1\n",
    "\n",
    "for line in range(0,len(data_mod.index)):\n",
    "    request_line = data_mod.loc[line,['avatar_id','city','date']].to_numpy()\n",
    "    request_ref_line = data_mod.loc[ref_line,['avatar_id','city','date']].to_numpy() \n",
    "    if (request_line == request_ref_line).all() :\n",
    "        order[line] = order[ref_line]\n",
    "    else : \n",
    "        order[line] = order[ref_line]+1\n",
    "        ref_line = line"
   ]
  },
  {
   "cell_type": "code",
   "execution_count": 380,
   "metadata": {},
   "outputs": [
    {
     "data": {
      "text/html": [
       "<div>\n",
       "<style scoped>\n",
       "    .dataframe tbody tr th:only-of-type {\n",
       "        vertical-align: middle;\n",
       "    }\n",
       "\n",
       "    .dataframe tbody tr th {\n",
       "        vertical-align: top;\n",
       "    }\n",
       "\n",
       "    .dataframe thead th {\n",
       "        text-align: right;\n",
       "    }\n",
       "</style>\n",
       "<table border=\"1\" class=\"dataframe\">\n",
       "  <thead>\n",
       "    <tr style=\"text-align: right;\">\n",
       "      <th></th>\n",
       "      <th>avatar_id</th>\n",
       "      <th>city</th>\n",
       "      <th>date</th>\n",
       "      <th>language</th>\n",
       "      <th>mobile</th>\n",
       "      <th>hotel_id</th>\n",
       "      <th>group</th>\n",
       "      <th>brand</th>\n",
       "      <th>parking</th>\n",
       "      <th>pool</th>\n",
       "      <th>children_policy</th>\n",
       "      <th>price_mod</th>\n",
       "      <th>stock_mod</th>\n",
       "      <th>order_requests</th>\n",
       "    </tr>\n",
       "  </thead>\n",
       "  <tbody>\n",
       "    <tr>\n",
       "      <th>0</th>\n",
       "      <td>3530</td>\n",
       "      <td>paris</td>\n",
       "      <td>40</td>\n",
       "      <td>dutch</td>\n",
       "      <td>0</td>\n",
       "      <td>467</td>\n",
       "      <td>Accar Hotels</td>\n",
       "      <td>Safitel</td>\n",
       "      <td>0</td>\n",
       "      <td>0</td>\n",
       "      <td>0</td>\n",
       "      <td>5.497168</td>\n",
       "      <td>14.628739</td>\n",
       "      <td>1</td>\n",
       "    </tr>\n",
       "    <tr>\n",
       "      <th>1</th>\n",
       "      <td>3530</td>\n",
       "      <td>paris</td>\n",
       "      <td>40</td>\n",
       "      <td>dutch</td>\n",
       "      <td>0</td>\n",
       "      <td>708</td>\n",
       "      <td>Yin Yang</td>\n",
       "      <td>Ardisson</td>\n",
       "      <td>1</td>\n",
       "      <td>0</td>\n",
       "      <td>0</td>\n",
       "      <td>4.990433</td>\n",
       "      <td>10.099505</td>\n",
       "      <td>1</td>\n",
       "    </tr>\n",
       "    <tr>\n",
       "      <th>2</th>\n",
       "      <td>3530</td>\n",
       "      <td>paris</td>\n",
       "      <td>40</td>\n",
       "      <td>dutch</td>\n",
       "      <td>0</td>\n",
       "      <td>853</td>\n",
       "      <td>Chillton Worldwide</td>\n",
       "      <td>Tripletree</td>\n",
       "      <td>1</td>\n",
       "      <td>0</td>\n",
       "      <td>0</td>\n",
       "      <td>4.990433</td>\n",
       "      <td>10.488088</td>\n",
       "      <td>1</td>\n",
       "    </tr>\n",
       "    <tr>\n",
       "      <th>3</th>\n",
       "      <td>3530</td>\n",
       "      <td>paris</td>\n",
       "      <td>40</td>\n",
       "      <td>dutch</td>\n",
       "      <td>0</td>\n",
       "      <td>207</td>\n",
       "      <td>Boss Western</td>\n",
       "      <td>J.Halliday Inn</td>\n",
       "      <td>0</td>\n",
       "      <td>0</td>\n",
       "      <td>1</td>\n",
       "      <td>5.036953</td>\n",
       "      <td>10.392305</td>\n",
       "      <td>1</td>\n",
       "    </tr>\n",
       "    <tr>\n",
       "      <th>4</th>\n",
       "      <td>3530</td>\n",
       "      <td>paris</td>\n",
       "      <td>40</td>\n",
       "      <td>dutch</td>\n",
       "      <td>0</td>\n",
       "      <td>415</td>\n",
       "      <td>Boss Western</td>\n",
       "      <td>Boss Western</td>\n",
       "      <td>1</td>\n",
       "      <td>0</td>\n",
       "      <td>0</td>\n",
       "      <td>4.753590</td>\n",
       "      <td>9.110434</td>\n",
       "      <td>1</td>\n",
       "    </tr>\n",
       "  </tbody>\n",
       "</table>\n",
       "</div>"
      ],
      "text/plain": [
       "   avatar_id   city  date language  mobile  hotel_id               group  \\\n",
       "0       3530  paris    40    dutch       0       467        Accar Hotels   \n",
       "1       3530  paris    40    dutch       0       708            Yin Yang   \n",
       "2       3530  paris    40    dutch       0       853  Chillton Worldwide   \n",
       "3       3530  paris    40    dutch       0       207        Boss Western   \n",
       "4       3530  paris    40    dutch       0       415        Boss Western   \n",
       "\n",
       "            brand  parking  pool  children_policy  price_mod  stock_mod  \\\n",
       "0         Safitel        0     0                0   5.497168  14.628739   \n",
       "1        Ardisson        1     0                0   4.990433  10.099505   \n",
       "2      Tripletree        1     0                0   4.990433  10.488088   \n",
       "3  J.Halliday Inn        0     0                1   5.036953  10.392305   \n",
       "4    Boss Western        1     0                0   4.753590   9.110434   \n",
       "\n",
       "   order_requests  \n",
       "0               1  \n",
       "1               1  \n",
       "2               1  \n",
       "3               1  \n",
       "4               1  "
      ]
     },
     "execution_count": 380,
     "metadata": {},
     "output_type": "execute_result"
    }
   ],
   "source": [
    "data_mod['order_requests'] = order\n",
    "data_mod.head()"
   ]
  },
  {
   "cell_type": "markdown",
   "metadata": {},
   "source": [
    "On change les types des variables."
   ]
  },
  {
   "cell_type": "code",
   "execution_count": 381,
   "metadata": {},
   "outputs": [
    {
     "data": {
      "text/plain": [
       "avatar_id             int64\n",
       "city               category\n",
       "date                  int64\n",
       "language           category\n",
       "mobile             category\n",
       "hotel_id              int64\n",
       "group              category\n",
       "brand              category\n",
       "parking            category\n",
       "pool               category\n",
       "children_policy    category\n",
       "price_mod           float64\n",
       "stock_mod           float64\n",
       "order_requests        int64\n",
       "dtype: object"
      ]
     },
     "execution_count": 381,
     "metadata": {},
     "output_type": "execute_result"
    }
   ],
   "source": [
    "# définition des variables quntitatives et qualitatives : \n",
    "var_quant = [\"date\",\"stock_mod\"]\n",
    "var_quali = [\"city\",\"language\", \"mobile\",\"group\",\"brand\",\"parking\",\"pool\",\"children_policy\"]\n",
    "\n",
    "for var in var_quali :\n",
    "    data_mod[var]=pd.Categorical(data_mod[var],ordered=False)\n",
    "\n",
    "data_mod.dtypes"
   ]
  },
  {
   "cell_type": "code",
   "execution_count": 382,
   "metadata": {},
   "outputs": [],
   "source": [
    "# Renormalisation des variables quantitatives : \n",
    "scalerX = StandardScaler()  \n",
    "scalerX.fit(data_mod[var_quant])  \n",
    "X_quant = pd.DataFrame(scalerX.transform(data_mod[var_quant]),columns=var_quant)\n",
    "\n",
    "# Renormalisation de l'output :\n",
    "Y = data_mod[\"price_mod\"].to_numpy()\n",
    "scalerY = StandardScaler()  \n",
    "scalerY.fit(Y.reshape(-1,1))\n",
    "Y_norm = scalerY.transform(Y.reshape(-1,1)).flatten()"
   ]
  },
  {
   "cell_type": "markdown",
   "metadata": {},
   "source": [
    "RQ : quand on utilise le set de test, ne pas oublier d'effectuer les mêmes modifications sur le tableau de données (log,sqrt,renormalisation)"
   ]
  },
  {
   "cell_type": "code",
   "execution_count": 383,
   "metadata": {},
   "outputs": [],
   "source": [
    "# transformation des variables qualitatives en dummy variables\n",
    "X_dum = pd.get_dummies(data_mod[var_quali])\n",
    "X = pd.concat([data_mod[['order_requests','avatar_id','hotel_id']],X_quant,X_dum],axis=1)"
   ]
  },
  {
   "cell_type": "markdown",
   "metadata": {},
   "source": [
    "Selon le modèle il faut transformer les variables qualitatives en dummy variables => s'en souvenir !"
   ]
  },
  {
   "cell_type": "markdown",
   "metadata": {},
   "source": [
    "# Préparation des données de test "
   ]
  },
  {
   "cell_type": "code",
   "execution_count": 384,
   "metadata": {},
   "outputs": [
    {
     "data": {
      "text/plain": [
       "order_requests      int64\n",
       "city               object\n",
       "date                int64\n",
       "language           object\n",
       "mobile              int64\n",
       "avatar_id           int64\n",
       "hotel_id            int64\n",
       "stock               int64\n",
       "group              object\n",
       "brand              object\n",
       "parking             int64\n",
       "pool                int64\n",
       "children_policy     int64\n",
       "dtype: object"
      ]
     },
     "execution_count": 384,
     "metadata": {},
     "output_type": "execute_result"
    }
   ],
   "source": [
    "# chargement des données de test : \n",
    "data_test = pd.read_csv('../Test_set_analysis/test_set_complet.csv')\n",
    "data_test.dtypes"
   ]
  },
  {
   "cell_type": "code",
   "execution_count": 385,
   "metadata": {},
   "outputs": [],
   "source": [
    "# apply the same transformations on the test set : \n",
    "# qualitative variables to categorical \n",
    "for var in var_quali :\n",
    "    data_test[var]=pd.Categorical(data_test[var],ordered=False)\n",
    "    \n",
    "# recentrer et renormaliser les variables : \n",
    "data_test[\"stock_mod\"]=data_test[\"stock\"].map(lambda x: sqrt(x))\n",
    "data_test_mod = data_test.drop([\"stock\"],axis=1)\n",
    "scaler_test = StandardScaler()  \n",
    "scaler_test.fit(data_test_mod[var_quant])\n",
    "X_test_quant = pd.DataFrame(scaler_test.transform(data_test_mod[var_quant]),columns=var_quant)\n",
    "\n",
    "# transformation des variables qualitatives en dummy variables\n",
    "X_test_dum = pd.get_dummies(data_test_mod[var_quali])\n",
    "X_test = pd.concat([data_test_mod[['order_requests']],X_test_quant,X_test_dum],axis=1)"
   ]
  },
  {
   "cell_type": "markdown",
   "metadata": {},
   "source": [
    "# Séparation des données en échantillon d'entrainement et validation"
   ]
  },
  {
   "cell_type": "code",
   "execution_count": 386,
   "metadata": {},
   "outputs": [],
   "source": [
    "# 20% des avatar_ID seront dans le test set et 80% dans le train set\n",
    "alpha = 0.8\n",
    "n = len(ind_user)\n",
    "ind_user = np.unique(data_mod['avatar_id'])\n",
    "random.shuffle(ind_user)\n",
    "ind_train = ind_user[:int(alpha*n)]\n",
    "ind_vali = ind_user[int(alpha*n):]\n",
    "\n",
    "# sélection des lignes correspondantes dans le dataframe \n",
    "X_train = X.loc[X['avatar_id'].isin(ind_train)]\n",
    "X_vali = X.loc[X['avatar_id'].isin(ind_vali)]"
   ]
  },
  {
   "cell_type": "code",
   "execution_count": 387,
   "metadata": {},
   "outputs": [],
   "source": [
    "# séparation de la colonne des outputs en training et validation : \n",
    "indX_train = X.index[X['avatar_id'].isin(ind_train)]\n",
    "Y_train = Y_norm[indX_train]\n",
    "indX_vali = X.index[X['avatar_id'].isin(ind_vali)]\n",
    "Y_vali = Y_norm[indX_vali]"
   ]
  },
  {
   "cell_type": "code",
   "execution_count": 388,
   "metadata": {},
   "outputs": [
    {
     "name": "stderr",
     "output_type": "stream",
     "text": [
      "<ipython-input-388-06a2bef623d1>:2: SettingWithCopyWarning: \n",
      "A value is trying to be set on a copy of a slice from a DataFrame\n",
      "\n",
      "See the caveats in the documentation: https://pandas.pydata.org/pandas-docs/stable/user_guide/indexing.html#returning-a-view-versus-a-copy\n",
      "  X_train.drop(['avatar_id','hotel_id'],axis=1,inplace=True)\n",
      "<ipython-input-388-06a2bef623d1>:3: SettingWithCopyWarning: \n",
      "A value is trying to be set on a copy of a slice from a DataFrame\n",
      "\n",
      "See the caveats in the documentation: https://pandas.pydata.org/pandas-docs/stable/user_guide/indexing.html#returning-a-view-versus-a-copy\n",
      "  X_vali.drop(['avatar_id','hotel_id'],axis=1,inplace=True)\n"
     ]
    }
   ],
   "source": [
    "# suppression des ID maintenant qu'on en a plus besoin\n",
    "X_train.drop(['avatar_id','hotel_id'],axis=1,inplace=True)\n",
    "X_vali.drop(['avatar_id','hotel_id'],axis=1,inplace=True)"
   ]
  },
  {
   "cell_type": "markdown",
   "metadata": {},
   "source": [
    "# Construction du modèle et analyse des résultats"
   ]
  },
  {
   "cell_type": "code",
   "execution_count": 389,
   "metadata": {},
   "outputs": [
    {
     "name": "stderr",
     "output_type": "stream",
     "text": [
      "<ipython-input-389-47be29821655>:2: UserWarning: With alpha=0, this algorithm does not converge well. You are advised to use the LinearRegression estimator\n",
      "  regLasso.fit(X_train,Y_train)\n",
      "/home/julie/anaconda3/lib/python3.8/site-packages/sklearn/linear_model/_coordinate_descent.py:647: UserWarning: Coordinate descent with no regularization may lead to unexpected results and is discouraged.\n",
      "  model = cd_fast.enet_coordinate_descent(\n"
     ]
    },
    {
     "name": "stdout",
     "output_type": "stream",
     "text": [
      "MSE= 0.08917407737260181\n"
     ]
    },
    {
     "name": "stderr",
     "output_type": "stream",
     "text": [
      "/home/julie/anaconda3/lib/python3.8/site-packages/sklearn/linear_model/_coordinate_descent.py:647: ConvergenceWarning: Objective did not converge. You might want to increase the number of iterations, check the scale of the features or consider increasing regularisation. Duality gap: 3.797e+03, tolerance: 8.665e+00 Linear regression models with null weight for the l1 regularization term are more efficiently fitted using one of the solvers implemented in sklearn.linear_model.Ridge/RidgeCV instead.\n",
      "  model = cd_fast.enet_coordinate_descent(\n"
     ]
    }
   ],
   "source": [
    "regLasso = linear_model.Lasso(alpha=0)\n",
    "regLasso.fit(X_train,Y_train)\n",
    "prev=regLasso.predict(X_vali)\n",
    "print(\"MSE=\",mean_squared_error(Y_vali,prev)) # sur les résultats normalisés"
   ]
  },
  {
   "cell_type": "code",
   "execution_count": 390,
   "metadata": {},
   "outputs": [
    {
     "name": "stdout",
     "output_type": "stream",
     "text": [
      "MSE sur les résultats dénormalisés = 496.2373700833351\n",
      "MAE sur les résultats dénormalisés = 14.606736625291477\n"
     ]
    }
   ],
   "source": [
    "# MSE sur les données dénormalisées et détransformées : \n",
    "prev_denorm = scalerY.inverse_transform(prev.reshape(-1,1))\n",
    "prev_detransfo = np.exp(prev_denorm)\n",
    "Y_vali_denorm = scalerY.inverse_transform(Y_vali.reshape(-1,1))\n",
    "Y_vali_detransfo = np.exp(Y_vali_denorm)\n",
    "print(\"MSE sur les résultats dénormalisés =\",mean_squared_error(Y_vali_detransfo,prev_detransfo))\n",
    "print(\"MAE sur les résultats dénormalisés =\",mean_absolute_error(Y_vali_detransfo,prev_detransfo))"
   ]
  },
  {
   "cell_type": "code",
   "execution_count": 395,
   "metadata": {},
   "outputs": [
    {
     "data": {
      "image/png": "[encoded data removed]",
      "text/plain": [
       "<Figure size 720x720 with 1 Axes>"
      ]
     },
     "metadata": {
      "needs_background": "light"
     },
     "output_type": "display_data"
    }
   ],
   "source": [
    "plt.figure(figsize=(10,10))\n",
    "plt.plot(Y_vali_detransfo,prev_detransfo,\"o\")\n",
    "plt.xlabel(\"prix prédit\")\n",
    "plt.ylabel(\"prix observé\")\n",
    "plt.show()"
   ]
  },
  {
   "cell_type": "code",
   "execution_count": 397,
   "metadata": {},
   "outputs": [
    {
     "data": {
      "image/png": "[encoded data removed]",
      "text/plain": [
       "<Figure size 720x720 with 1 Axes>"
      ]
     },
     "metadata": {
      "needs_background": "light"
     },
     "output_type": "display_data"
    }
   ],
   "source": [
    "plt.figure(figsize=(10,10))\n",
    "plt.plot(prev_detransfo,Y_vali_detransfo-prev_detransfo,\"o\")\n",
    "plt.xlabel(u\"valeurs prédites\")\n",
    "plt.ylabel(u\"Résidus\")\n",
    "plt.title(\"Residus pénalité L1 Lasso\") \n",
    "plt.hlines(0,0,3)\n",
    "plt.show()"
   ]
  },
  {
   "cell_type": "code",
   "execution_count": 404,
   "metadata": {},
   "outputs": [
    {
     "data": {
      "image/png": "[encoded data removed]",
      "text/plain": [
       "<Figure size 720x360 with 1 Axes>"
      ]
     },
     "metadata": {
      "needs_background": "light"
     },
     "output_type": "display_data"
    }
   ],
   "source": [
    "plt.figure(figsize=(10,5))\n",
    "plt.hist(Y_vali_detransfo-prev_detransfo,bins=20)\n",
    "plt.title('histogramme des résidus')\n",
    "plt.xlabel('valeur des résidus')\n",
    "plt.ylabel('nombre de prédictions')\n",
    "plt.show()"
   ]
  },
  {
   "cell_type": "code",
   "execution_count": 394,
   "metadata": {},
   "outputs": [
    {
     "name": "stderr",
     "output_type": "stream",
     "text": [
      "<ipython-input-394-67390f15db01>:3: UserWarning: With alpha=0, this algorithm does not converge well. You are advised to use the LinearRegression estimator\n",
      "  regLasso_complet.fit(X_train,Y_train)\n",
      "/home/julie/anaconda3/lib/python3.8/site-packages/sklearn/linear_model/_coordinate_descent.py:647: UserWarning: Coordinate descent with no regularization may lead to unexpected results and is discouraged.\n",
      "  model = cd_fast.enet_coordinate_descent(\n",
      "/home/julie/anaconda3/lib/python3.8/site-packages/sklearn/linear_model/_coordinate_descent.py:647: ConvergenceWarning: Objective did not converge. You might want to increase the number of iterations, check the scale of the features or consider increasing regularisation. Duality gap: 3.797e+03, tolerance: 8.665e+00 Linear regression models with null weight for the l1 regularization term are more efficiently fitted using one of the solvers implemented in sklearn.linear_model.Ridge/RidgeCV instead.\n",
      "  model = cd_fast.enet_coordinate_descent(\n"
     ]
    }
   ],
   "source": [
    "# On ré-entraine l'algo sur tout le jeu de données et on prédit le set de test : \n",
    "regLasso_complet = linear_model.Lasso(alpha=0)\n",
    "regLasso_complet.fit(X_train,Y_train)\n",
    "prev = regLasso_complet.predict(X_test)\n",
    "prev = pd.DataFrame(np.exp(scalerY.inverse_transform(prev.reshape(-1,1))))\n",
    "prev.to_csv(\"../predictions/prediction_regLasso.csv\")"
   ]
  },
  {
   "cell_type": "markdown",
   "metadata": {},
   "source": [
    "# Continuer avec la sélection de variables"
   ]
  }
 ],
 "metadata": {
  "kernelspec": {
   "display_name": "Python 3",
   "language": "python",
   "name": "python3"
  },
  "language_info": {
   "codemirror_mode": {
    "name": "ipython",
    "version": 3
   },
   "file_extension": ".py",
   "mimetype": "text/x-python",
   "name": "python",
   "nbconvert_exporter": "python",
   "pygments_lexer": "ipython3",
   "version": "3.8.5"
  },
  "toc": {
   "base_numbering": "0",
   "nav_menu": {},
   "number_sections": true,
   "sideBar": true,
   "skip_h1_title": false,
   "title_cell": "",
   "title_sidebar": "Contents",
   "toc_cell": false,
   "toc_position": {
    "height": "calc(100% - 180px)",
    "left": "10px",
    "top": "150px",
    "width": "165px"
   },
   "toc_section_display": true,
   "toc_window_display": true
  }
 },
 "nbformat": 4,
 "nbformat_minor": 4
}
