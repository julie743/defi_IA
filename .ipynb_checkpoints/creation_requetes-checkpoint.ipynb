{
 "cells": [
  {
   "cell_type": "markdown",
   "metadata": {},
   "source": [
    "# Notebook - Création d'un dataframe de requête pour les utilisateurs"
   ]
  },
  {
   "cell_type": "code",
   "execution_count": null,
   "metadata": {},
   "outputs": [],
   "source": [
    "#Librairies \n",
    "import itertools\n",
    "import pandas as pd \n",
    "import random\n",
    "import requests\n",
    "import numpy as np\n",
    "import copy\n",
    "import json "
   ]
  },
  {
   "cell_type": "markdown",
   "metadata": {},
   "source": [
    "## Définition des paramètres"
   ]
  },
  {
   "cell_type": "code",
   "execution_count": 150,
   "metadata": {},
   "outputs": [],
   "source": [
    "# les paramètres du jeu de données : \n",
    "\n",
    "request_var = [\"language\",\"city\",\"date\",\"mobile\"]\n",
    "city = [\"amsterdam\",\"copenhagen\",\"madrid\",\"paris\",\"rome\",\"sofia\",\"valletta\",\"vienna\",\"vilnius\"]\n",
    "date = list(range(0,45))\n",
    "language = [\"austrian\", \"belgian\", \"bulgarian\", \"croatian\", \"cypriot\", \"czech\", \"danish\", \"dutch\", \"estonian\", \"finnish\", \"french\",\n",
    "\"german\", \"greek\", \"hungarian\", \"irish\", \"italian\", \"latvian\", \"lithuanian\", \"luxembourgish\", \"maltese\", \"polish\", \"portuguese\", \n",
    "            \"romanian\", \"slovakian\", \"slovene\", \"spanish\", \"swedish\"]\n",
    "mobile = [0,1]\n",
    "\n",
    "dic_language_country = pd.Series({\"amsterdam\":\"dutch\",\n",
    "                                   \"copenhagen\":\"danish\",\n",
    "                                   \"madrid\":\"spanish\",\n",
    "                                   \"paris\" : \"french\",\n",
    "                                   \"rome\": \"italian\",\n",
    "                                   \"sofia\": \"bulgarian\",\n",
    "                                   \"valletta\": \"maltese\",\n",
    "                                   \"vienna\" : \"austrian\",\n",
    "                                   \"vilnius\" : \"lithuanian\"})\n",
    "\n",
    "dic_similar_language = {\"french\" : [\"belgian\"],\n",
    "                       \"belgian\" : [\"french\"], \n",
    "                       \"german\" : [\"austrian\",\"luxembourgish\"],\n",
    "                       \"austrian\" : [\"german\",\"luxembourgish\"],\n",
    "                       \"luxembourgish\" : [\"german\",\"austrian\"]}"
   ]
  },
  {
   "cell_type": "code",
   "execution_count": 200,
   "metadata": {},
   "outputs": [],
   "source": [
    "# les paramètres des fonctions pour générer les requêtes : \n",
    "#a bien définir !!\n",
    "nb_users = 700\n",
    "max_requetes = 4 \n",
    "max_jours = 44\n",
    "threshold_city = 0.2\n",
    "threshold_language = 0.1"
   ]
  },
  {
   "cell_type": "markdown",
   "metadata": {},
   "source": [
    "## Fonction de génération des requêtes "
   ]
  },
  {
   "cell_type": "code",
   "execution_count": 212,
   "metadata": {},
   "outputs": [],
   "source": [
    "# Fonction pour générer toutes les requêtes d'un utilisateur : \n",
    "\n",
    "def all_requests_1user(user_ID,max_requetes,max_jours,threshold_city,threshold_language) : \n",
    "    # initialisation dataframe pour stocker la liste des requêtes + définir le nombre de requêtes faites : \n",
    "    df_user = pd.DataFrame()\n",
    "    nb_requetes = random.randint(1,max_requetes)\n",
    "\n",
    "    # Enregistrement du user_ID sur toutes les lignes du df\n",
    "    df_user[\"avatar_name\"] = [user_ID]*nb_requetes\n",
    "    \n",
    "    # Attribution d'une date \n",
    "    #--Choix des bornes \n",
    "    dates = np.sort(random.choices(list(range(max_jours)), k = nb_requetes))[::-1]\n",
    "    df_user[\"date\"] = dates\n",
    "        \n",
    "    # Attribution de la ville \n",
    "    city_user = random.choice(city) \n",
    "    prob = np.random.uniform(0,1,nb_requetes)\n",
    "    vect_city = pd.Series([\"\"]*nb_requetes)\n",
    "    \n",
    "    vect_city[prob >= threshold_city] = city_user\n",
    "    vect_city[prob < threshold_city] = random.choice(city) \n",
    "    df_user[\"city\"] = vect_city\n",
    "    \n",
    "    # Attribution de la langue : \n",
    "    # 1. une langue pour l'utilisateur :\n",
    "    language_user = random.choice(language) \n",
    "    vect_language = pd.Series([language_user]*nb_requetes)\n",
    "    \n",
    "    # 2. remplacer cette langue par une langue similaire ? \n",
    "    if language_user in dic_similar_language : \n",
    "        prob = np.random.uniform(0,1,nb_requetes)\n",
    "        ind = np.where(prob<=threshold_language)[0]\n",
    "        vect_language[ind] = random.choice(dic_similar_language[language_user])\n",
    "    \n",
    "    # 3. remplacer cette langue par la langue du pays dans lequel l'utilisateur se rend ? \n",
    "    prob = np.random.uniform(0,1,nb_requetes)\n",
    "    ind = np.where(prob<=threshold_language)[0]\n",
    "    vect_language[ind] = dic_language_country[vect_city[ind]]\n",
    "    df_user[\"language\"] = vect_language\n",
    "    \n",
    "    # Attribution du mobile \n",
    "    df_user[\"mobile\"] = random.choices([0,1],k=nb_requetes)\n",
    "    return df_user\n",
    "\n",
    "df1 = all_requests_1user(1,max_requetes,max_jours,threshold_city,threshold_language)"
   ]
  },
  {
   "cell_type": "code",
   "execution_count": 213,
   "metadata": {},
   "outputs": [],
   "source": [
    "# Fonction pour créer un df pour stocker toutes les requêtes de tous les  utilisateurs :\n",
    "def all_requests_all_users(nb_users,max_requetes,max_jours,threshold_city,threshold_language) : \n",
    "    df = pd.DataFrame(columns=np.r_[[\"avatar_name\"],request_var])\n",
    "    for i in range(nb_users) :\n",
    "        # génération d'un df par user \n",
    "        df_1user = all_requests_1user(i,max_requetes,max_jours,threshold_city,threshold_language)\n",
    "        # concaténation de tous les dataframes en un seul\n",
    "        df = pd.concat([df,df_1user],ignore_index=True)\n",
    "    return df \n",
    "\n",
    "df = all_requests_all_users(nb_users,max_requetes,max_jours,threshold_city,threshold_language) "
   ]
  }
 ],
 "metadata": {
  "kernelspec": {
   "display_name": "Python 3",
   "language": "python",
   "name": "python3"
  },
  "language_info": {
   "codemirror_mode": {
    "name": "ipython",
    "version": 3
   },
   "file_extension": ".py",
   "mimetype": "text/x-python",
   "name": "python",
   "nbconvert_exporter": "python",
   "pygments_lexer": "ipython3",
   "version": "3.8.5"
  },
  "toc": {
   "base_numbering": 1,
   "nav_menu": {},
   "number_sections": true,
   "sideBar": true,
   "skip_h1_title": false,
   "title_cell": "Table of Contents",
   "title_sidebar": "Contents",
   "toc_cell": false,
   "toc_position": {},
   "toc_section_display": true,
   "toc_window_display": false
  }
 },
 "nbformat": 4,
 "nbformat_minor": 5
}
