{
 "cells": [
  {
   "cell_type": "code",
   "execution_count": 2,
   "id": "57efb245",
   "metadata": {},
   "outputs": [],
   "source": [
    "import urllib.parse\n",
    "\n",
    "domain = \"51.91.251.0\"\n",
    "port = 3000\n",
    "host = f\"http://{domain}:{port}\"\n",
    "path = lambda x: urllib.parse.urljoin(host, x)"
   ]
  },
  {
   "cell_type": "code",
   "execution_count": 3,
   "id": "ed15f3a1",
   "metadata": {},
   "outputs": [],
   "source": [
    "#Librairies \n",
    "import itertools\n",
    "import pandas as pd \n",
    "import random\n",
    "import requests\n",
    "import numpy as np\n",
    "import copy\n",
    "import json "
   ]
  },
  {
   "cell_type": "code",
   "execution_count": 18,
   "id": "75f02ff9",
   "metadata": {},
   "outputs": [],
   "source": [
    "#Préparation de la bdd \n",
    "request_var = [\"language\",\"city\",\"date\",\"mobile\"]\n",
    "city = [\"amsterdam\",\"copenhagen\",\"madrid\",\"paris\",\"rome\",\"sofia\",\"valletta\",\"vienna\",\"vilnius\"]\n",
    "date = list(range(0,45))\n",
    "language = [\"austrian\", \"bulgarian\", \"croatian\", \"cypriot\", \"czech\", \"danish\", \"dutch\", \"estonian\", \"finnish\", \"french\",\n",
    "\"german\", \"greek\", \"hungarian\", \"irish\", \"italian\", \"latvian\", \"lithuanian\", \"luxembourgish\", \"maltese\", \"polish\", \"portuguese\", \"romanian\", \"slovakian\", \"slovene\", \"spanish\", \"swedish\"]\n",
    "mobile = [0,1]\n",
    "\n",
    "#Combinaisons possibles dans les données \n",
    "data = list(itertools.product(language,city,date,mobile))\n",
    "\n",
    "#Mise en forme de la df \n",
    "data = pd.DataFrame(data,columns=[request_var])\n",
    "data = data.sample(frac=1).reset_index(drop=True)\n",
    "data.head()\n",
    "\n",
    "#Sauvegarde \n",
    "data.to_csv('data_init.csv', index=False)"
   ]
  },
  {
   "cell_type": "markdown",
   "id": "7e08ef39",
   "metadata": {},
   "source": [
    "#### A changer toutes les 1000 requêtes \n",
    "\n",
    "- On stock les les indices des data pour identifier les requêtes déjà réalisées "
   ]
  },
  {
   "cell_type": "code",
   "execution_count": 5,
   "id": "67c38f60",
   "metadata": {},
   "outputs": [],
   "source": [
    "nb_requests = 10"
   ]
  },
  {
   "cell_type": "code",
   "execution_count": 6,
   "id": "f6cb7be4",
   "metadata": {},
   "outputs": [],
   "source": [
    "#Tirage aléatoire de 1000 données dans data\n",
    "ind = data.index\n",
    "rd_ind = random.sample(range(0,len(ind)),nb_requests)"
   ]
  },
  {
   "cell_type": "code",
   "execution_count": 7,
   "id": "87428b6e",
   "metadata": {},
   "outputs": [],
   "source": [
    "#Création des avatars \n",
    "user_id = '82a030f2-958a-4824-8ee0-85cde6f5668c'\n",
    "names = []\n",
    "for i in range(nb_requests) :\n",
    "    name = \"turtles\" + str(i)\n",
    "    names.append(name)\n",
    "    r = requests.post(path(f'avatars/{user_id}/{name}'))"
   ]
  },
  {
   "cell_type": "code",
   "execution_count": 8,
   "id": "e4aa197b",
   "metadata": {},
   "outputs": [
    {
     "name": "stdout",
     "output_type": "stream",
     "text": [
      "3530 first_avatar\n",
      "3531 turtles1\n",
      "3532 turtles2\n",
      "4527 turtles0\n",
      "4528 turtles3\n",
      "4529 turtles4\n",
      "4530 turtles5\n",
      "4531 turtles6\n",
      "4532 turtles7\n",
      "4533 turtles8\n",
      "4534 turtles9\n"
     ]
    }
   ],
   "source": [
    "#Vérification création des avatars \n",
    "r = requests.get(path(f\"avatars/{user_id}\"))  \n",
    "for avatar in r.json():\n",
    "    print(avatar['id'], avatar['name'])"
   ]
  },
  {
   "cell_type": "code",
   "execution_count": 19,
   "id": "4d182599",
   "metadata": {},
   "outputs": [],
   "source": [
    "#Création du dictionnaire pour les requêtes \n",
    "data = pd.read_csv('data_init.csv')\n",
    "data2 = copy.deepcopy(data.iloc[rd_ind])\n",
    "data2[\"avatar_name\"] = names \n",
    "cols = list(data2.columns)\n",
    "cols = [cols[-1]] + cols[:-1]\n",
    "data2 = data2[cols]\n",
    "\n",
    "dictio = data2.to_dict('records')"
   ]
  },
  {
   "cell_type": "code",
   "execution_count": 16,
   "id": "0e994142",
   "metadata": {},
   "outputs": [],
   "source": [
    "#data2\n",
    "#dictio"
   ]
  },
  {
   "cell_type": "code",
   "execution_count": 51,
   "id": "0c9e1396",
   "metadata": {},
   "outputs": [],
   "source": [
    "#Requêtes \n",
    "wave_request = 0\n",
    "#1- On stocke les indices déjà utilisés \n",
    "pd.DataFrame(list(data2.index)).to_csv('./index_utilises/index1.csv',index=False, header=False)\n",
    "\n",
    "#for params in dictio :  \n",
    "    #r2 = requests.get(path(f\"pricing/{user_id}\"), params=params)"
   ]
  },
  {
   "cell_type": "code",
   "execution_count": 42,
   "id": "ab577086",
   "metadata": {},
   "outputs": [],
   "source": [
    "test = {'prices': [{'hotel_id': 12, 'price': 76, 'stock': 0},\n",
    "  {'hotel_id': 475, 'price': 103, 'stock': 0},\n",
    "  {'hotel_id': 482, 'price': 78, 'stock': 0},\n",
    "  {'hotel_id': 715, 'price': 170, 'stock': 0},\n",
    "  {'hotel_id': 22, 'price': 170, 'stock': 0},\n",
    "  {'hotel_id': 105, 'price': 170, 'stock': 0},\n",
    "  {'hotel_id': 570, 'price': 105, 'stock': 0},\n",
    "  {'hotel_id': 387, 'price': 406, 'stock': 1},\n",
    "  {'hotel_id': 867, 'price': 144, 'stock': 0},\n",
    "  {'hotel_id': 493, 'price': 171, 'stock': 0},\n",
    "  {'hotel_id': 234, 'price': 170, 'stock': 0},\n",
    "  {'hotel_id': 628, 'price': 147, 'stock': 0},\n",
    "  {'hotel_id': 679, 'price': 147, 'stock': 0},\n",
    "  {'hotel_id': 375, 'price': 103, 'stock': 0},\n",
    "  {'hotel_id': 83, 'price': 171, 'stock': 0},\n",
    "  {'hotel_id': 146, 'price': 207, 'stock': 0},\n",
    "  {'hotel_id': 34, 'price': 76, 'stock': 0},\n",
    "  {'hotel_id': 417, 'price': 173, 'stock': 0},\n",
    "  {'hotel_id': 101, 'price': 388, 'stock': 1},\n",
    "  {'hotel_id': 743, 'price': 168, 'stock': 0},\n",
    "  {'hotel_id': 933, 'price': 147, 'stock': 0},\n",
    "  {'hotel_id': 352, 'price': 89, 'stock': 15},\n",
    "  {'hotel_id': 777, 'price': 175, 'stock': 0},\n",
    "  {'hotel_id': 548, 'price': 406, 'stock': 1},\n",
    "  {'hotel_id': 627, 'price': 103, 'stock': 0},\n",
    "  {'hotel_id': 224, 'price': 156, 'stock': 1},\n",
    "  {'hotel_id': 783, 'price': 97, 'stock': 0}],\n",
    "  'request': {'city': 'amsterdam',\n",
    "  'date': 1,\n",
    "  'language': 'hungarian',\n",
    "  'mobile': 1,\n",
    "  'avatar_id': 6}}"
   ]
  },
  {
   "cell_type": "code",
   "execution_count": 63,
   "id": "d9a06e38",
   "metadata": {},
   "outputs": [
    {
     "data": {
      "text/plain": [
       "\"df = test['request']\\ndf\\npd.DataFrame.from_dict(df, index=[0])\""
      ]
     },
     "execution_count": 63,
     "metadata": {},
     "output_type": "execute_result"
    }
   ],
   "source": [
    "\"\"\"df = test['request']\n",
    "df\n",
    "pd.DataFrame.from_dict(df, index=[0])\"\"\""
   ]
  },
  {
   "cell_type": "code",
   "execution_count": null,
   "id": "7c103c1c",
   "metadata": {},
   "outputs": [],
   "source": [
    "\"\"\"import json\n",
    "json_object = json.dumps(r2.json(), indent=\"\\t\")\n",
    "wave_request = 2\n",
    "with open(\"./requetes/sample\" + str(i) + \".json\",\"w\") as outfile:\n",
    "    outfile.write(json_object)\"\"\""
   ]
  }
 ],
 "metadata": {
  "kernelspec": {
   "display_name": "Python 3",
   "language": "python",
   "name": "python3"
  },
  "language_info": {
   "codemirror_mode": {
    "name": "ipython",
    "version": 3
   },
   "file_extension": ".py",
   "mimetype": "text/x-python",
   "name": "python",
   "nbconvert_exporter": "python",
   "pygments_lexer": "ipython3",
   "version": "3.8.8"
  }
 },
 "nbformat": 4,
 "nbformat_minor": 5
}
