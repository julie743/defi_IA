{
 "cells": [
  {
   "cell_type": "code",
   "execution_count": 1,
   "metadata": {},
   "outputs": [],
   "source": [
    "import urllib.parse\n",
    "\n",
    "domain = \"51.91.251.0\"\n",
    "port = 3000\n",
    "host = f\"http://{domain}:{port}\"\n",
    "path = lambda x: urllib.parse.urljoin(host, x)"
   ]
  },
  {
   "cell_type": "code",
   "execution_count": 1,
   "metadata": {},
   "outputs": [],
   "source": [
    "#Librairies \n",
    "import itertools\n",
    "import pandas as pd \n",
    "import random\n",
    "import requests\n",
    "import numpy as np\n",
    "import copy\n",
    "import json "
   ]
  },
  {
   "cell_type": "code",
   "execution_count": 3,
   "metadata": {},
   "outputs": [],
   "source": [
    "#Préparation de la bdd \n",
    "request_var = [\"language\",\"city\",\"date\",\"mobile\"]\n",
    "city = [\"amsterdam\",\"copenhagen\",\"madrid\",\"paris\",\"rome\",\"sofia\",\"valletta\",\"vienna\",\"vilnius\"]\n",
    "date = list(range(0,45))\n",
    "language = [\"austrian\", \"bulgarian\", \"croatian\", \"cypriot\", \"czech\", \"danish\", \"dutch\", \"estonian\", \n",
    "            \"finnish\", \"french\",\"german\", \"greek\", \"hungarian\", \"irish\", \"italian\", \"latvian\", \n",
    "            \"lithuanian\", \"luxembourgish\", \"maltese\", \"polish\", \"portuguese\", \"romanian\", \"slovakian\", \n",
    "            \"slovene\", \"spanish\", \"swedish\"]\n",
    "mobile = [0,1]\n",
    "\n",
    "#Combinaisons possibles dans les données : ne pas re run \n",
    "# => charger directement les données depuis le .csv déjà sauvegardé\n",
    "'''\n",
    "data = list(itertools.product(language,city,date,mobile))\n",
    "\n",
    "#Mise en forme de la df \n",
    "data = pd.DataFrame(data,columns=[request_var])\n",
    "data = data.sample(frac=1).reset_index(drop=True)\n",
    "data.head()\n",
    "\n",
    "#Sauvegarde \n",
    "data.to_csv('data_init.csv', index=False)\n",
    "'''\n",
    "data = pd.read_csv('data_init.csv')"
   ]
  },
  {
   "cell_type": "markdown",
   "metadata": {},
   "source": [
    "#### A changer toutes les 1000 requêtes \n",
    "\n",
    "- On stock les les indices des data pour identifier les requêtes déjà réalisées "
   ]
  },
  {
   "cell_type": "code",
   "execution_count": 4,
   "metadata": {},
   "outputs": [],
   "source": [
    "nb_requests = 10"
   ]
  },
  {
   "cell_type": "code",
   "execution_count": 6,
   "metadata": {},
   "outputs": [],
   "source": [
    "#Tirage aléatoire de 1000 données dans data\n",
    "ind = data.index\n",
    "rd_ind = random.sample(range(0,len(ind)),nb_requests)"
   ]
  },
  {
   "cell_type": "code",
   "execution_count": 26,
   "metadata": {},
   "outputs": [],
   "source": [
    "#Création des avatars \n",
    "user_id = '82a030f2-958a-4824-8ee0-85cde6f5668c'\n",
    "names = []\n",
    "for i in range(nb_requests) :\n",
    "    name = \"turtles\" + str(i)\n",
    "    names.append(name)\n",
    "    r = requests.post(path(f'avatars/{user_id}/{name}'))"
   ]
  },
  {
   "cell_type": "code",
   "execution_count": 8,
   "metadata": {},
   "outputs": [
    {
     "name": "stdout",
     "output_type": "stream",
     "text": [
      "3530 first_avatar\n",
      "3531 turtles1\n",
      "3532 turtles2\n",
      "4527 turtles0\n",
      "4528 turtles3\n",
      "4529 turtles4\n",
      "4530 turtles5\n",
      "4531 turtles6\n",
      "4532 turtles7\n",
      "4533 turtles8\n",
      "4534 turtles9\n"
     ]
    }
   ],
   "source": [
    "#Vérification création des avatars \n",
    "r = requests.get(path(f\"avatars/{user_id}\"))  \n",
    "for avatar in r.json():\n",
    "    print(avatar['id'], avatar['name'])"
   ]
  },
  {
   "cell_type": "code",
   "execution_count": 19,
   "metadata": {},
   "outputs": [],
   "source": [
    "#Création du dictionnaire pour les requêtes :\n",
    "data = pd.read_csv('data_init.csv')\n",
    "data2 = copy.deepcopy(data.iloc[rd_ind])\n",
    "data2[\"avatar_name\"] = names \n",
    "cols = list(data2.columns)\n",
    "cols = [cols[-1]] + cols[:-1]\n",
    "data2 = data2[cols]\n",
    "\n",
    "dictio = data2.to_dict('records')"
   ]
  },
  {
   "cell_type": "code",
   "execution_count": 16,
   "metadata": {},
   "outputs": [],
   "source": [
    "#data2\n",
    "#dictio"
   ]
  },
  {
   "cell_type": "code",
   "execution_count": 51,
   "metadata": {},
   "outputs": [],
   "source": [
    "#Requêtes \n",
    "wave_request = 0\n",
    "#1- On stocke les indices déjà utilisés \n",
    "pd.DataFrame(list(data2.index)).to_csv('./index_utilises/index1.csv',index=False, header=False)\n",
    "\n",
    "# Boucle qui fait les requêtes : à chaque fois qu'on passe dans la boucle on obtient le dictionnaire avec les \n",
    "# résultats de la requête + les paramètres qu'on avait choisi pour la requête. \n",
    "#for params in dictio :  \n",
    "    #r2 = requests.get(path(f\"pricing/{user_id}\"), params=params)"
   ]
  },
  {
   "cell_type": "code",
   "execution_count": 5,
   "metadata": {},
   "outputs": [],
   "source": [
    "test = {'prices': [{'hotel_id': 12, 'price': 76, 'stock': 0},\n",
    "  {'hotel_id': 475, 'price': 103, 'stock': 0},\n",
    "  {'hotel_id': 482, 'price': 78, 'stock': 0},\n",
    "  {'hotel_id': 715, 'price': 170, 'stock': 0},\n",
    "  {'hotel_id': 22, 'price': 170, 'stock': 0},\n",
    "  {'hotel_id': 105, 'price': 170, 'stock': 0},\n",
    "  {'hotel_id': 570, 'price': 105, 'stock': 0},\n",
    "  {'hotel_id': 387, 'price': 406, 'stock': 1},\n",
    "  {'hotel_id': 867, 'price': 144, 'stock': 0},\n",
    "  {'hotel_id': 493, 'price': 171, 'stock': 0},\n",
    "  {'hotel_id': 234, 'price': 170, 'stock': 0},\n",
    "  {'hotel_id': 628, 'price': 147, 'stock': 0},\n",
    "  {'hotel_id': 679, 'price': 147, 'stock': 0},\n",
    "  {'hotel_id': 375, 'price': 103, 'stock': 0},\n",
    "  {'hotel_id': 83, 'price': 171, 'stock': 0},\n",
    "  {'hotel_id': 146, 'price': 207, 'stock': 0},\n",
    "  {'hotel_id': 34, 'price': 76, 'stock': 0},\n",
    "  {'hotel_id': 417, 'price': 173, 'stock': 0},\n",
    "  {'hotel_id': 101, 'price': 388, 'stock': 1},\n",
    "  {'hotel_id': 743, 'price': 168, 'stock': 0},\n",
    "  {'hotel_id': 933, 'price': 147, 'stock': 0},\n",
    "  {'hotel_id': 352, 'price': 89, 'stock': 15},\n",
    "  {'hotel_id': 777, 'price': 175, 'stock': 0},\n",
    "  {'hotel_id': 548, 'price': 406, 'stock': 1},\n",
    "  {'hotel_id': 627, 'price': 103, 'stock': 0},\n",
    "  {'hotel_id': 224, 'price': 156, 'stock': 1},\n",
    "  {'hotel_id': 783, 'price': 97, 'stock': 0}],\n",
    "  'request': {'city': 'amsterdam',\n",
    "  'date': 1,\n",
    "  'language': 'hungarian',\n",
    "  'mobile': 1,\n",
    "  'avatar_id': 6}}"
   ]
  },
  {
   "cell_type": "code",
   "execution_count": 63,
   "metadata": {},
   "outputs": [
    {
     "data": {
      "text/plain": [
       "\"df = test['request']\\ndf\\npd.DataFrame.from_dict(df, index=[0])\""
      ]
     },
     "execution_count": 63,
     "metadata": {},
     "output_type": "execute_result"
    }
   ],
   "source": [
    "\"\"\"df = test['request']\n",
    "df\n",
    "pd.DataFrame.from_dict(df, index=[0])\"\"\""
   ]
  },
  {
   "cell_type": "code",
   "execution_count": null,
   "metadata": {},
   "outputs": [],
   "source": [
    "\"\"\"import json\n",
    "json_object = json.dumps(r2.json(), indent=\"\\t\")\n",
    "wave_request = 2\n",
    "with open(\"./requetes/sample\" + str(i) + \".json\",\"w\") as outfile:\n",
    "    outfile.write(json_object)\"\"\""
   ]
  },
  {
   "cell_type": "code",
   "execution_count": 29,
   "metadata": {},
   "outputs": [],
   "source": [
    "# FONCTIONS DE MISE EN FORME DES DONNEES : \n",
    "\n",
    "# 1. fonction pour mettre en forme les données d'une requête \n",
    "\n",
    "def request_to_df(dic_request):\n",
    "    # dataframe contenant le résultat de la requête : \n",
    "    df_prices = pd.DataFrame.from_dict(dic_request['prices'])\n",
    "\n",
    "    # dataframe contenant les infos de la requête (que l'on dupplique pour avoir le même nombre de ligne) :\n",
    "    df_1request = pd.DataFrame.from_dict([dic_request['request']])\n",
    "    df_1request = pd.DataFrame(np.repeat(df_1request.values, len(df_prices.index), axis=0),columns=df_1request.columns)\n",
    "    cols = list(df_1request.columns)\n",
    "    cols = [cols[-1]] + cols[:-1]\n",
    "    df_1request = df_1request[cols]\n",
    "\n",
    "    # dataframe final pour un avatar ayant fait une requête : \n",
    "    df_1avatar = pd.concat([df_1request,df_prices],axis=1)\n",
    "    \n",
    "    return df_1avatar\n",
    "\n",
    "# un exemple d'appel : \n",
    "df_1avatar = request_to_df(test)\n",
    "\n",
    "# 2. fonction pour concaténer les dataframes de plusieurs requêtes : \n",
    "def request_to_final_df(list_df) : \n",
    "    return pd.concat(list_df,axis=0,ignore_index=True)\n",
    "\n",
    "# un exemple d'appel : \n",
    "df_2avatar = request_to_final_df([df_1avatar,df_1avatar])\n",
    "\n",
    "# 3. fonction pour transformer notre dataframe avec la liste des requêtes à faire en dict :\n",
    "\n",
    "def request_to_dict(csv_file,ind_request) :\n",
    "    # get the listof request we want to do : \n",
    "    data = pd.read_csv(csv_file)\n",
    "    data2 = copy.deepcopy(data.iloc[ind_request])\n",
    "    # associate avatar name to each request and order the columns : \n",
    "    data2[\"avatar_name\"] = names \n",
    "    cols = list(data2.columns)\n",
    "    cols = [cols[-1]] + cols[:-1]\n",
    "    data2 = data2[cols]\n",
    "    # convert df to dict : \n",
    "    dic = data2.to_dict('records')\n",
    "    return dic\n",
    "\n",
    "# un exemple d'appel\n",
    "dic = request_to_dict('data_init.csv',range(0,10))\n"
   ]
  }
 ],
 "metadata": {
  "kernelspec": {
   "display_name": "Python 3",
   "language": "python",
   "name": "python3"
  },
  "language_info": {
   "codemirror_mode": {
    "name": "ipython",
    "version": 3
   },
   "file_extension": ".py",
   "mimetype": "text/x-python",
   "name": "python",
   "nbconvert_exporter": "python",
   "pygments_lexer": "ipython3",
   "version": "3.8.5"
  },
  "toc": {
   "base_numbering": 1,
   "nav_menu": {},
   "number_sections": true,
   "sideBar": true,
   "skip_h1_title": false,
   "title_cell": "Table of Contents",
   "title_sidebar": "Contents",
   "toc_cell": false,
   "toc_position": {},
   "toc_section_display": true,
   "toc_window_display": false
  }
 },
 "nbformat": 4,
 "nbformat_minor": 5
}
